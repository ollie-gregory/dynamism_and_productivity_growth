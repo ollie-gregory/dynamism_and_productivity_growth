{
 "cells": [
  {
   "cell_type": "markdown",
   "id": "b42c3ef9",
   "metadata": {},
   "source": [
    "# Data Cleaning"
   ]
  },
  {
   "cell_type": "code",
   "execution_count": 46,
   "id": "efd6c06f",
   "metadata": {},
   "outputs": [],
   "source": [
    "import pandas as pd # pandas is a library for data manipulation and analysis\n",
    "import numpy as np # numpy is a library for numerical computations\n",
    "from tqdm import tqdm # tqdm is a library for adding progress bars to iterables\n",
    "\n",
    "from src.productivity_estimation import ProductivityEstimator # Custom class for estimating productivity"
   ]
  },
  {
   "cell_type": "markdown",
   "id": "5b27daae",
   "metadata": {},
   "source": [
    "## Load in the BLS data\n",
    "\n",
    "This data is in a long format and contains many measures that we don't need for our analysis. After exploring the data, I have decided only to keep the TFP measure indexed to 2017 for two digit NAICS codes only."
   ]
  },
  {
   "cell_type": "code",
   "execution_count": null,
   "id": "56d0c466",
   "metadata": {},
   "outputs": [],
   "source": [
    "# Read the Excel file into a pandas DataFrame\n",
    "bls_data = pd.read_excel(\"../data/raw/bls_data.xlsx\", sheet_name=\"MachineReadable\") "
   ]
  },
  {
   "cell_type": "code",
   "execution_count": 48,
   "id": "f573c85c",
   "metadata": {},
   "outputs": [],
   "source": [
    "# Pivoting the DataFrame into a wide format two separate columns for Measure and Units\n",
    "pivoted = bls_data.pivot_table(index=[\"NAICS\", \"Industry\", \"Year\"], columns=[\"Measure\", \"Units\"], values=\"Value\", aggfunc=\"first\")"
   ]
  },
  {
   "cell_type": "code",
   "execution_count": 49,
   "id": "a1b47d7d",
   "metadata": {},
   "outputs": [],
   "source": [
    "# Select only the TFP column with the unit \"Index (2017=100)\"\n",
    "tfp_naics_long = pivoted.loc[:, 'Total factor productivity'][\"Index (2017=100)\"].copy()\n",
    "\n",
    "tfp_naics_long = tfp_naics_long.reset_index()\n",
    "tfp_naics_long = tfp_naics_long.rename(columns={\"Index (2017=100)\": \"TFP\"})\n",
    "\n",
    "tfp_naics_long[\"TFP_growth\"] = tfp_naics_long.groupby(\"NAICS\")[\"TFP\"].pct_change()"
   ]
  },
  {
   "cell_type": "code",
   "execution_count": 50,
   "id": "30b80ae2",
   "metadata": {},
   "outputs": [],
   "source": [
    "# Shorten the DataFrame further to include only 2 digit NAICS codes.\n",
    "tfp_naics_short = tfp_naics_long.loc[(tfp_naics_long[\"NAICS\"].str.len() < 3) & ~(tfp_naics_long[\"NAICS\"].isin([\"DM\", \"ND\"]))].reset_index(drop=True)"
   ]
  },
  {
   "cell_type": "code",
   "execution_count": 51,
   "id": "71043ce6",
   "metadata": {},
   "outputs": [
    {
     "data": {
      "text/html": [
       "<div>\n",
       "<style scoped>\n",
       "    .dataframe tbody tr th:only-of-type {\n",
       "        vertical-align: middle;\n",
       "    }\n",
       "\n",
       "    .dataframe tbody tr th {\n",
       "        vertical-align: top;\n",
       "    }\n",
       "\n",
       "    .dataframe thead th {\n",
       "        text-align: right;\n",
       "    }\n",
       "</style>\n",
       "<table border=\"1\" class=\"dataframe\">\n",
       "  <thead>\n",
       "    <tr style=\"text-align: right;\">\n",
       "      <th></th>\n",
       "      <th>NAICS</th>\n",
       "      <th>Industry</th>\n",
       "      <th>Year</th>\n",
       "      <th>TFP</th>\n",
       "      <th>TFP_growth</th>\n",
       "    </tr>\n",
       "  </thead>\n",
       "  <tbody>\n",
       "    <tr>\n",
       "      <th>0</th>\n",
       "      <td>11</td>\n",
       "      <td>Agriculture, forestry, fishing, and hunting</td>\n",
       "      <td>1987</td>\n",
       "      <td>68.776</td>\n",
       "      <td>NaN</td>\n",
       "    </tr>\n",
       "    <tr>\n",
       "      <th>1</th>\n",
       "      <td>11</td>\n",
       "      <td>Agriculture, forestry, fishing, and hunting</td>\n",
       "      <td>1988</td>\n",
       "      <td>63.369</td>\n",
       "      <td>-0.078618</td>\n",
       "    </tr>\n",
       "    <tr>\n",
       "      <th>2</th>\n",
       "      <td>11</td>\n",
       "      <td>Agriculture, forestry, fishing, and hunting</td>\n",
       "      <td>1989</td>\n",
       "      <td>66.843</td>\n",
       "      <td>0.054822</td>\n",
       "    </tr>\n",
       "    <tr>\n",
       "      <th>3</th>\n",
       "      <td>11</td>\n",
       "      <td>Agriculture, forestry, fishing, and hunting</td>\n",
       "      <td>1990</td>\n",
       "      <td>70.492</td>\n",
       "      <td>0.054591</td>\n",
       "    </tr>\n",
       "    <tr>\n",
       "      <th>4</th>\n",
       "      <td>11</td>\n",
       "      <td>Agriculture, forestry, fishing, and hunting</td>\n",
       "      <td>1991</td>\n",
       "      <td>71.025</td>\n",
       "      <td>0.007561</td>\n",
       "    </tr>\n",
       "    <tr>\n",
       "      <th>...</th>\n",
       "      <td>...</td>\n",
       "      <td>...</td>\n",
       "      <td>...</td>\n",
       "      <td>...</td>\n",
       "      <td>...</td>\n",
       "    </tr>\n",
       "    <tr>\n",
       "      <th>624</th>\n",
       "      <td>MN</td>\n",
       "      <td>Manufacturing sector</td>\n",
       "      <td>2019</td>\n",
       "      <td>99.675</td>\n",
       "      <td>-0.016731</td>\n",
       "    </tr>\n",
       "    <tr>\n",
       "      <th>625</th>\n",
       "      <td>MN</td>\n",
       "      <td>Manufacturing sector</td>\n",
       "      <td>2020</td>\n",
       "      <td>98.769</td>\n",
       "      <td>-0.00909</td>\n",
       "    </tr>\n",
       "    <tr>\n",
       "      <th>626</th>\n",
       "      <td>MN</td>\n",
       "      <td>Manufacturing sector</td>\n",
       "      <td>2021</td>\n",
       "      <td>102.304</td>\n",
       "      <td>0.035791</td>\n",
       "    </tr>\n",
       "    <tr>\n",
       "      <th>627</th>\n",
       "      <td>MN</td>\n",
       "      <td>Manufacturing sector</td>\n",
       "      <td>2022</td>\n",
       "      <td>101.062</td>\n",
       "      <td>-0.01214</td>\n",
       "    </tr>\n",
       "    <tr>\n",
       "      <th>628</th>\n",
       "      <td>MN</td>\n",
       "      <td>Manufacturing sector</td>\n",
       "      <td>2023</td>\n",
       "      <td>97.81</td>\n",
       "      <td>-0.032178</td>\n",
       "    </tr>\n",
       "  </tbody>\n",
       "</table>\n",
       "<p>629 rows × 5 columns</p>\n",
       "</div>"
      ],
      "text/plain": [
       "    NAICS                                     Industry  Year      TFP  \\\n",
       "0      11  Agriculture, forestry, fishing, and hunting  1987   68.776   \n",
       "1      11  Agriculture, forestry, fishing, and hunting  1988   63.369   \n",
       "2      11  Agriculture, forestry, fishing, and hunting  1989   66.843   \n",
       "3      11  Agriculture, forestry, fishing, and hunting  1990   70.492   \n",
       "4      11  Agriculture, forestry, fishing, and hunting  1991   71.025   \n",
       "..    ...                                          ...   ...      ...   \n",
       "624    MN                         Manufacturing sector  2019   99.675   \n",
       "625    MN                         Manufacturing sector  2020   98.769   \n",
       "626    MN                         Manufacturing sector  2021  102.304   \n",
       "627    MN                         Manufacturing sector  2022  101.062   \n",
       "628    MN                         Manufacturing sector  2023    97.81   \n",
       "\n",
       "    TFP_growth  \n",
       "0          NaN  \n",
       "1    -0.078618  \n",
       "2     0.054822  \n",
       "3     0.054591  \n",
       "4     0.007561  \n",
       "..         ...  \n",
       "624  -0.016731  \n",
       "625   -0.00909  \n",
       "626   0.035791  \n",
       "627   -0.01214  \n",
       "628  -0.032178  \n",
       "\n",
       "[629 rows x 5 columns]"
      ]
     },
     "execution_count": 51,
     "metadata": {},
     "output_type": "execute_result"
    }
   ],
   "source": [
    "tfp_naics_short"
   ]
  },
  {
   "cell_type": "code",
   "execution_count": 52,
   "id": "40998992",
   "metadata": {},
   "outputs": [
    {
     "data": {
      "text/html": [
       "<div>\n",
       "<style scoped>\n",
       "    .dataframe tbody tr th:only-of-type {\n",
       "        vertical-align: middle;\n",
       "    }\n",
       "\n",
       "    .dataframe tbody tr th {\n",
       "        vertical-align: top;\n",
       "    }\n",
       "\n",
       "    .dataframe thead th {\n",
       "        text-align: right;\n",
       "    }\n",
       "</style>\n",
       "<table border=\"1\" class=\"dataframe\">\n",
       "  <thead>\n",
       "    <tr style=\"text-align: right;\">\n",
       "      <th></th>\n",
       "      <th>NAICS</th>\n",
       "      <th>Industry</th>\n",
       "    </tr>\n",
       "  </thead>\n",
       "  <tbody>\n",
       "    <tr>\n",
       "      <th>0</th>\n",
       "      <td>11</td>\n",
       "      <td>Agriculture, forestry, fishing, and hunting</td>\n",
       "    </tr>\n",
       "    <tr>\n",
       "      <th>1</th>\n",
       "      <td>21</td>\n",
       "      <td>Mining</td>\n",
       "    </tr>\n",
       "    <tr>\n",
       "      <th>2</th>\n",
       "      <td>22</td>\n",
       "      <td>Utilities</td>\n",
       "    </tr>\n",
       "    <tr>\n",
       "      <th>3</th>\n",
       "      <td>23</td>\n",
       "      <td>Construction</td>\n",
       "    </tr>\n",
       "    <tr>\n",
       "      <th>4</th>\n",
       "      <td>42</td>\n",
       "      <td>Wholesale trade</td>\n",
       "    </tr>\n",
       "    <tr>\n",
       "      <th>5</th>\n",
       "      <td>51</td>\n",
       "      <td>Information</td>\n",
       "    </tr>\n",
       "    <tr>\n",
       "      <th>6</th>\n",
       "      <td>52</td>\n",
       "      <td>Finance and insurance</td>\n",
       "    </tr>\n",
       "    <tr>\n",
       "      <th>7</th>\n",
       "      <td>53</td>\n",
       "      <td>Real estate and rental and leasing</td>\n",
       "    </tr>\n",
       "    <tr>\n",
       "      <th>8</th>\n",
       "      <td>54</td>\n",
       "      <td>Professional, scientific, and technical services</td>\n",
       "    </tr>\n",
       "    <tr>\n",
       "      <th>9</th>\n",
       "      <td>55</td>\n",
       "      <td>Management of companies and enterprises</td>\n",
       "    </tr>\n",
       "    <tr>\n",
       "      <th>10</th>\n",
       "      <td>56</td>\n",
       "      <td>Administrative and waste management services</td>\n",
       "    </tr>\n",
       "    <tr>\n",
       "      <th>11</th>\n",
       "      <td>61</td>\n",
       "      <td>Educational services</td>\n",
       "    </tr>\n",
       "    <tr>\n",
       "      <th>12</th>\n",
       "      <td>62</td>\n",
       "      <td>Health care and social assistance</td>\n",
       "    </tr>\n",
       "    <tr>\n",
       "      <th>13</th>\n",
       "      <td>71</td>\n",
       "      <td>Arts, entertainment, and recreation</td>\n",
       "    </tr>\n",
       "    <tr>\n",
       "      <th>14</th>\n",
       "      <td>72</td>\n",
       "      <td>Accommodation and food services</td>\n",
       "    </tr>\n",
       "    <tr>\n",
       "      <th>15</th>\n",
       "      <td>81</td>\n",
       "      <td>Other services, except government</td>\n",
       "    </tr>\n",
       "    <tr>\n",
       "      <th>16</th>\n",
       "      <td>MN</td>\n",
       "      <td>Manufacturing sector</td>\n",
       "    </tr>\n",
       "  </tbody>\n",
       "</table>\n",
       "</div>"
      ],
      "text/plain": [
       "   NAICS                                          Industry\n",
       "0     11       Agriculture, forestry, fishing, and hunting\n",
       "1     21                                            Mining\n",
       "2     22                                         Utilities\n",
       "3     23                                      Construction\n",
       "4     42                                   Wholesale trade\n",
       "5     51                                       Information\n",
       "6     52                             Finance and insurance\n",
       "7     53                Real estate and rental and leasing\n",
       "8     54  Professional, scientific, and technical services\n",
       "9     55           Management of companies and enterprises\n",
       "10    56      Administrative and waste management services\n",
       "11    61                              Educational services\n",
       "12    62                 Health care and social assistance\n",
       "13    71               Arts, entertainment, and recreation\n",
       "14    72                   Accommodation and food services\n",
       "15    81                 Other services, except government\n",
       "16    MN                              Manufacturing sector"
      ]
     },
     "execution_count": 52,
     "metadata": {},
     "output_type": "execute_result"
    }
   ],
   "source": [
    "# Get unique pairs of NAICS and Industry\n",
    "naics_industry = tfp_naics_short[[\"NAICS\", \"Industry\"]].drop_duplicates().reset_index(drop=True)\n",
    "naics_industry"
   ]
  },
  {
   "cell_type": "markdown",
   "id": "8ed5b00c",
   "metadata": {},
   "source": [
    "These NAICS codes represent the majority of the private sector economy in the US. MN represents the manufacturing NAICS codes 31-33."
   ]
  },
  {
   "cell_type": "markdown",
   "id": "aacc7b9d",
   "metadata": {},
   "source": [
    "## Load in the BDS data\n",
    "\n",
    "This data is in a long format and contains only data at the 4 digit NAICS code granularity. In order to be consistent with the BLS data, I will convert it into the 2 digit NAICS code granularity and will also only keep the data for the same sectors and years as the BLS data."
   ]
  },
  {
   "cell_type": "code",
   "execution_count": null,
   "id": "e9aec335",
   "metadata": {},
   "outputs": [],
   "source": [
    "bds_data = pd.read_csv(\"../data/raw/bds_4naics.csv\")"
   ]
  },
  {
   "cell_type": "code",
   "execution_count": 54,
   "id": "ff86fb3d",
   "metadata": {},
   "outputs": [],
   "source": [
    "bds_data = bds_data.copy()\n",
    "\n",
    "# Remove columns that contain \"rate\". This is done to clean the DataFrame and keep only the raw data.\n",
    "# It is means that when grouping, we can simply use 'sum' as the aggregate function.\n",
    "bds_data = bds_data.loc[:, ~bds_data.columns.str.contains(\"rate\", case=False)]\n",
    "\n",
    "# Create the 2 digit NAICS code column using the feature that the first two digits of a longer NAICS code are that industry's 2 digit sector.\n",
    "bds_data[\"2naics\"] = bds_data[\"vcnaics4\"].astype(str).str[:2]\n",
    "\n",
    "# Merge codes 31-33 into MN for consistency with the BLS data.\n",
    "bds_data[\"2naics\"] = bds_data[\"2naics\"].replace({\"31\": \"MN\", \"32\": \"MN\", \"33\": \"MN\"})"
   ]
  },
  {
   "cell_type": "code",
   "execution_count": 55,
   "id": "a622bcb7",
   "metadata": {},
   "outputs": [],
   "source": [
    "# replace values containing \"D\" with np.nan\n",
    "bds_data = bds_data.replace(\"D\", value=np.nan)\n",
    "\n",
    "# convert columns to numeric for proper functioning of groupby.\n",
    "for col in bds_data.columns:\n",
    "    if col not in [\"Year\", \"2naics\"]:\n",
    "        try:\n",
    "            bds_data[col] = pd.to_numeric(bds_data[col])\n",
    "        except ValueError:\n",
    "            print(f\"Column {col} cannot be converted to int. It may contain non-integer values.\")"
   ]
  },
  {
   "cell_type": "code",
   "execution_count": 56,
   "id": "faa98803",
   "metadata": {},
   "outputs": [],
   "source": [
    "# Group the dataframe by the 2 digit NAICS codes and the year and aggregate them using the sum function.\n",
    "bds_2naics = bds_data.groupby([\"2naics\", \"year\"]).agg(\"sum\").reset_index()\n",
    "\n",
    "# remove vcnaics4 column and rename 2naics to NAICS\n",
    "bds_2naics = bds_2naics.rename(columns={\"2naics\": \"NAICS\", \"year\": \"Year\"})\n",
    "bds_2naics = bds_2naics.drop(columns=[\"vcnaics4\"])"
   ]
  },
  {
   "cell_type": "code",
   "execution_count": 57,
   "id": "f0e46049",
   "metadata": {},
   "outputs": [
    {
     "data": {
      "text/html": [
       "<div>\n",
       "<style scoped>\n",
       "    .dataframe tbody tr th:only-of-type {\n",
       "        vertical-align: middle;\n",
       "    }\n",
       "\n",
       "    .dataframe tbody tr th {\n",
       "        vertical-align: top;\n",
       "    }\n",
       "\n",
       "    .dataframe thead th {\n",
       "        text-align: right;\n",
       "    }\n",
       "</style>\n",
       "<table border=\"1\" class=\"dataframe\">\n",
       "  <thead>\n",
       "    <tr style=\"text-align: right;\">\n",
       "      <th></th>\n",
       "      <th>NAICS</th>\n",
       "      <th>Year</th>\n",
       "      <th>firms</th>\n",
       "      <th>estabs</th>\n",
       "      <th>emp</th>\n",
       "      <th>denom</th>\n",
       "      <th>estabs_entry</th>\n",
       "      <th>estabs_exit</th>\n",
       "      <th>job_creation</th>\n",
       "      <th>job_creation_births</th>\n",
       "      <th>job_creation_continuers</th>\n",
       "      <th>job_destruction</th>\n",
       "      <th>job_destruction_deaths</th>\n",
       "      <th>job_destruction_continuers</th>\n",
       "      <th>net_job_creation</th>\n",
       "      <th>firmdeath_firms</th>\n",
       "      <th>firmdeath_estabs</th>\n",
       "      <th>firmdeath_emp</th>\n",
       "    </tr>\n",
       "  </thead>\n",
       "  <tbody>\n",
       "    <tr>\n",
       "      <th>0</th>\n",
       "      <td>11</td>\n",
       "      <td>1978</td>\n",
       "      <td>20370</td>\n",
       "      <td>21019</td>\n",
       "      <td>185795</td>\n",
       "      <td>178800</td>\n",
       "      <td>4011.0</td>\n",
       "      <td>3698.0</td>\n",
       "      <td>57357</td>\n",
       "      <td>20570.0</td>\n",
       "      <td>36787.0</td>\n",
       "      <td>43697</td>\n",
       "      <td>17668.0</td>\n",
       "      <td>26029.0</td>\n",
       "      <td>13660</td>\n",
       "      <td>2690.0</td>\n",
       "      <td>2715.0</td>\n",
       "      <td>12047.0</td>\n",
       "    </tr>\n",
       "    <tr>\n",
       "      <th>1</th>\n",
       "      <td>11</td>\n",
       "      <td>1979</td>\n",
       "      <td>20037</td>\n",
       "      <td>20633</td>\n",
       "      <td>185894</td>\n",
       "      <td>186550</td>\n",
       "      <td>3612.0</td>\n",
       "      <td>3650.0</td>\n",
       "      <td>50074</td>\n",
       "      <td>19437.0</td>\n",
       "      <td>30637.0</td>\n",
       "      <td>51578</td>\n",
       "      <td>20607.0</td>\n",
       "      <td>30971.0</td>\n",
       "      <td>-1504</td>\n",
       "      <td>2618.0</td>\n",
       "      <td>2662.0</td>\n",
       "      <td>13911.0</td>\n",
       "    </tr>\n",
       "    <tr>\n",
       "      <th>2</th>\n",
       "      <td>11</td>\n",
       "      <td>1980</td>\n",
       "      <td>19994</td>\n",
       "      <td>20586</td>\n",
       "      <td>187244</td>\n",
       "      <td>187525</td>\n",
       "      <td>3282.0</td>\n",
       "      <td>3392.0</td>\n",
       "      <td>45609</td>\n",
       "      <td>16313.0</td>\n",
       "      <td>29296.0</td>\n",
       "      <td>46396</td>\n",
       "      <td>15232.0</td>\n",
       "      <td>31164.0</td>\n",
       "      <td>-787</td>\n",
       "      <td>2581.0</td>\n",
       "      <td>2581.0</td>\n",
       "      <td>10799.0</td>\n",
       "    </tr>\n",
       "    <tr>\n",
       "      <th>3</th>\n",
       "      <td>11</td>\n",
       "      <td>1981</td>\n",
       "      <td>19235</td>\n",
       "      <td>19812</td>\n",
       "      <td>179027</td>\n",
       "      <td>182600</td>\n",
       "      <td>2810.0</td>\n",
       "      <td>3489.0</td>\n",
       "      <td>41572</td>\n",
       "      <td>14777.0</td>\n",
       "      <td>26795.0</td>\n",
       "      <td>48802</td>\n",
       "      <td>19376.0</td>\n",
       "      <td>29426.0</td>\n",
       "      <td>-7230</td>\n",
       "      <td>2486.0</td>\n",
       "      <td>2489.0</td>\n",
       "      <td>11514.0</td>\n",
       "    </tr>\n",
       "    <tr>\n",
       "      <th>4</th>\n",
       "      <td>11</td>\n",
       "      <td>1982</td>\n",
       "      <td>17973</td>\n",
       "      <td>18614</td>\n",
       "      <td>169727</td>\n",
       "      <td>172432</td>\n",
       "      <td>2600.0</td>\n",
       "      <td>3469.0</td>\n",
       "      <td>42786</td>\n",
       "      <td>16078.0</td>\n",
       "      <td>26708.0</td>\n",
       "      <td>48092</td>\n",
       "      <td>16623.0</td>\n",
       "      <td>31469.0</td>\n",
       "      <td>-5306</td>\n",
       "      <td>2415.0</td>\n",
       "      <td>2420.0</td>\n",
       "      <td>11377.0</td>\n",
       "    </tr>\n",
       "    <tr>\n",
       "      <th>...</th>\n",
       "      <td>...</td>\n",
       "      <td>...</td>\n",
       "      <td>...</td>\n",
       "      <td>...</td>\n",
       "      <td>...</td>\n",
       "      <td>...</td>\n",
       "      <td>...</td>\n",
       "      <td>...</td>\n",
       "      <td>...</td>\n",
       "      <td>...</td>\n",
       "      <td>...</td>\n",
       "      <td>...</td>\n",
       "      <td>...</td>\n",
       "      <td>...</td>\n",
       "      <td>...</td>\n",
       "      <td>...</td>\n",
       "      <td>...</td>\n",
       "      <td>...</td>\n",
       "    </tr>\n",
       "    <tr>\n",
       "      <th>940</th>\n",
       "      <td>MN</td>\n",
       "      <td>2018</td>\n",
       "      <td>237183</td>\n",
       "      <td>273785</td>\n",
       "      <td>11867119</td>\n",
       "      <td>11778528</td>\n",
       "      <td>18299.0</td>\n",
       "      <td>18584.0</td>\n",
       "      <td>1113717</td>\n",
       "      <td>240980.0</td>\n",
       "      <td>872737.0</td>\n",
       "      <td>939197</td>\n",
       "      <td>238605.0</td>\n",
       "      <td>700592.0</td>\n",
       "      <td>174520</td>\n",
       "      <td>13696.0</td>\n",
       "      <td>13769.0</td>\n",
       "      <td>124547.0</td>\n",
       "    </tr>\n",
       "    <tr>\n",
       "      <th>941</th>\n",
       "      <td>MN</td>\n",
       "      <td>2019</td>\n",
       "      <td>235305</td>\n",
       "      <td>272129</td>\n",
       "      <td>12064265</td>\n",
       "      <td>11960958</td>\n",
       "      <td>17161.0</td>\n",
       "      <td>18815.0</td>\n",
       "      <td>1085270</td>\n",
       "      <td>222948.0</td>\n",
       "      <td>862322.0</td>\n",
       "      <td>877348</td>\n",
       "      <td>237753.0</td>\n",
       "      <td>639595.0</td>\n",
       "      <td>207922</td>\n",
       "      <td>13804.0</td>\n",
       "      <td>13903.0</td>\n",
       "      <td>119545.0</td>\n",
       "    </tr>\n",
       "    <tr>\n",
       "      <th>942</th>\n",
       "      <td>MN</td>\n",
       "      <td>2020</td>\n",
       "      <td>231324</td>\n",
       "      <td>268369</td>\n",
       "      <td>11960402</td>\n",
       "      <td>12010626</td>\n",
       "      <td>16630.0</td>\n",
       "      <td>20458.0</td>\n",
       "      <td>977357</td>\n",
       "      <td>216658.0</td>\n",
       "      <td>760699.0</td>\n",
       "      <td>1079621</td>\n",
       "      <td>256545.0</td>\n",
       "      <td>823076.0</td>\n",
       "      <td>-102264</td>\n",
       "      <td>14375.0</td>\n",
       "      <td>14470.0</td>\n",
       "      <td>127688.0</td>\n",
       "    </tr>\n",
       "    <tr>\n",
       "      <th>943</th>\n",
       "      <td>MN</td>\n",
       "      <td>2021</td>\n",
       "      <td>227887</td>\n",
       "      <td>265398</td>\n",
       "      <td>11658587</td>\n",
       "      <td>11810038</td>\n",
       "      <td>18251.0</td>\n",
       "      <td>20646.0</td>\n",
       "      <td>988187</td>\n",
       "      <td>234806.0</td>\n",
       "      <td>753381.0</td>\n",
       "      <td>1289836</td>\n",
       "      <td>259129.0</td>\n",
       "      <td>1030707.0</td>\n",
       "      <td>-301649</td>\n",
       "      <td>13914.0</td>\n",
       "      <td>14046.0</td>\n",
       "      <td>114600.0</td>\n",
       "    </tr>\n",
       "    <tr>\n",
       "      <th>944</th>\n",
       "      <td>MN</td>\n",
       "      <td>2022</td>\n",
       "      <td>230059</td>\n",
       "      <td>268182</td>\n",
       "      <td>12150259</td>\n",
       "      <td>11931535</td>\n",
       "      <td>20868.0</td>\n",
       "      <td>19354.0</td>\n",
       "      <td>1390412</td>\n",
       "      <td>270697.0</td>\n",
       "      <td>1119715.0</td>\n",
       "      <td>954332</td>\n",
       "      <td>279857.0</td>\n",
       "      <td>674475.0</td>\n",
       "      <td>436080</td>\n",
       "      <td>14368.0</td>\n",
       "      <td>14495.0</td>\n",
       "      <td>120399.0</td>\n",
       "    </tr>\n",
       "  </tbody>\n",
       "</table>\n",
       "<p>945 rows × 18 columns</p>\n",
       "</div>"
      ],
      "text/plain": [
       "    NAICS  Year   firms  estabs       emp     denom  estabs_entry  \\\n",
       "0      11  1978   20370   21019    185795    178800        4011.0   \n",
       "1      11  1979   20037   20633    185894    186550        3612.0   \n",
       "2      11  1980   19994   20586    187244    187525        3282.0   \n",
       "3      11  1981   19235   19812    179027    182600        2810.0   \n",
       "4      11  1982   17973   18614    169727    172432        2600.0   \n",
       "..    ...   ...     ...     ...       ...       ...           ...   \n",
       "940    MN  2018  237183  273785  11867119  11778528       18299.0   \n",
       "941    MN  2019  235305  272129  12064265  11960958       17161.0   \n",
       "942    MN  2020  231324  268369  11960402  12010626       16630.0   \n",
       "943    MN  2021  227887  265398  11658587  11810038       18251.0   \n",
       "944    MN  2022  230059  268182  12150259  11931535       20868.0   \n",
       "\n",
       "     estabs_exit  job_creation  job_creation_births  job_creation_continuers  \\\n",
       "0         3698.0         57357              20570.0                  36787.0   \n",
       "1         3650.0         50074              19437.0                  30637.0   \n",
       "2         3392.0         45609              16313.0                  29296.0   \n",
       "3         3489.0         41572              14777.0                  26795.0   \n",
       "4         3469.0         42786              16078.0                  26708.0   \n",
       "..           ...           ...                  ...                      ...   \n",
       "940      18584.0       1113717             240980.0                 872737.0   \n",
       "941      18815.0       1085270             222948.0                 862322.0   \n",
       "942      20458.0        977357             216658.0                 760699.0   \n",
       "943      20646.0        988187             234806.0                 753381.0   \n",
       "944      19354.0       1390412             270697.0                1119715.0   \n",
       "\n",
       "     job_destruction  job_destruction_deaths  job_destruction_continuers  \\\n",
       "0              43697                 17668.0                     26029.0   \n",
       "1              51578                 20607.0                     30971.0   \n",
       "2              46396                 15232.0                     31164.0   \n",
       "3              48802                 19376.0                     29426.0   \n",
       "4              48092                 16623.0                     31469.0   \n",
       "..               ...                     ...                         ...   \n",
       "940           939197                238605.0                    700592.0   \n",
       "941           877348                237753.0                    639595.0   \n",
       "942          1079621                256545.0                    823076.0   \n",
       "943          1289836                259129.0                   1030707.0   \n",
       "944           954332                279857.0                    674475.0   \n",
       "\n",
       "     net_job_creation  firmdeath_firms  firmdeath_estabs  firmdeath_emp  \n",
       "0               13660           2690.0            2715.0        12047.0  \n",
       "1               -1504           2618.0            2662.0        13911.0  \n",
       "2                -787           2581.0            2581.0        10799.0  \n",
       "3               -7230           2486.0            2489.0        11514.0  \n",
       "4               -5306           2415.0            2420.0        11377.0  \n",
       "..                ...              ...               ...            ...  \n",
       "940            174520          13696.0           13769.0       124547.0  \n",
       "941            207922          13804.0           13903.0       119545.0  \n",
       "942           -102264          14375.0           14470.0       127688.0  \n",
       "943           -301649          13914.0           14046.0       114600.0  \n",
       "944            436080          14368.0           14495.0       120399.0  \n",
       "\n",
       "[945 rows x 18 columns]"
      ]
     },
     "execution_count": 57,
     "metadata": {},
     "output_type": "execute_result"
    }
   ],
   "source": [
    "bds_2naics"
   ]
  },
  {
   "cell_type": "markdown",
   "id": "e3b8cdee",
   "metadata": {},
   "source": [
    "As there is not a firm births column, we must infer it from the number of firms each period and the number of firm deaths.\n",
    "\n",
    "$$\n",
    "\\text{firms}_{i+1} = \\text{firms}_{i} + \\text{births}_{i} - \\text{deaths}_{i}\\\\\n",
    "\\text{births}_{i} = \\text{firms}_{i+1} - \\text{firms}_{i} + \\text{deaths}_{i}\n",
    "$$\n",
    "\n",
    "The job reallocation rate formula is given by:\n",
    "\n",
    "$$\n",
    "\\text{job\\_creation\\_rate} + \\text{job\\_destruction\\_rate} - ||\\text{net\\_job\\_creation\\_rate}||\\\\\n",
    "$$"
   ]
  },
  {
   "cell_type": "code",
   "execution_count": 58,
   "id": "77cb325b",
   "metadata": {},
   "outputs": [],
   "source": [
    "# Calculate firm births\n",
    "bds_2naics[\"firmbirth_firms\"] = bds_2naics[\"firms\"].shift(-1) - bds_2naics[\"firms\"] + bds_2naics[\"firmdeath_firms\"]\n",
    "\n",
    "# Calculate firm birth and death rates\n",
    "bds_2naics[\"firm_birth_rate\"] = bds_2naics[\"firmbirth_firms\"] / bds_2naics[\"firms\"]\n",
    "bds_2naics[\"firm_death_rate\"] = bds_2naics[\"firmdeath_firms\"] / bds_2naics[\"firms\"]\n",
    "\n",
    "# Calculate reallocation rate\n",
    "bds_2naics[\"job_reallocation_rate\"] = (bds_2naics[\"job_creation\"] + bds_2naics[\"job_destruction\"] - abs(bds_2naics[\"job_creation\"] - bds_2naics[\"job_destruction\"])) / bds_2naics[\"denom\"]"
   ]
  },
  {
   "cell_type": "code",
   "execution_count": 59,
   "id": "ffb4db45",
   "metadata": {},
   "outputs": [],
   "source": [
    "# Keep only columns of interest\n",
    "bds_2naics = bds_2naics[[\"NAICS\", \"Year\", \"job_reallocation_rate\", \"firm_birth_rate\", \"firm_death_rate\", \"emp\"]]"
   ]
  },
  {
   "cell_type": "markdown",
   "id": "c8bf82ac",
   "metadata": {},
   "source": [
    "## Load in the output data\n",
    "\n",
    "In order to calculate aggregates, I will weight them by sector output. This means we need output data at the same granularity as the BLS and BDS data, which I have got from the Bureau of Economic Analysis."
   ]
  },
  {
   "cell_type": "code",
   "execution_count": null,
   "id": "eda740ff",
   "metadata": {},
   "outputs": [],
   "source": [
    "output_pre97 = pd.read_csv(\"../data/raw/naics_output_pre97.csv\")\n",
    "output_post97 = pd.read_csv(\"../data/raw/naics_output_post97.csv\")\n",
    "\n",
    "output_pre97.drop(columns=[\"Line\"], inplace=True)\n",
    "output_post97.drop(columns=[\"Line\"], inplace=True)\n",
    "\n",
    "output = pd.merge(output_pre97, output_post97, how=\"outer\", on=\"Industry\")"
   ]
  },
  {
   "cell_type": "code",
   "execution_count": 61,
   "id": "bea58eda",
   "metadata": {},
   "outputs": [],
   "source": [
    "# Convert the data from wide to long format\n",
    "output_data = output.melt(id_vars=[\"Industry\"], var_name=\"Year\", value_name=\"output\")\n",
    "output_data[\"Year\"] = output_data[\"Year\"].astype(int)\n",
    "output_data[\"output_share\"] = output_data[\"output\"] / output_data.groupby(\"Year\")[\"output\"].transform(\"sum\")\n",
    "\n",
    "output_data = output_data.replace(\"Manufacturing\", value=\"Manufacturing sector\")"
   ]
  },
  {
   "cell_type": "markdown",
   "id": "9ebf7135",
   "metadata": {},
   "source": [
    "## Merging the data sets\n",
    "\n",
    "Before we merge the data, we need to ensure that we have the same NAICS codes and years in both data sets."
   ]
  },
  {
   "cell_type": "code",
   "execution_count": 62,
   "id": "294cc460",
   "metadata": {},
   "outputs": [],
   "source": [
    "# Remove additional NAICS industries that aren't common to both datasets. Remove early years that are not in the BLS data.\n",
    "bds_2naics = bds_2naics[bds_2naics[\"NAICS\"].isin(tfp_naics_short[\"NAICS\"])].reset_index(drop=True)\n",
    "bds_2naics = bds_2naics[bds_2naics[\"Year\"].isin(tfp_naics_short[\"Year\"])].reset_index(drop=True)\n",
    "\n",
    "# Removes the additional year that is in the BLS data but not in the BDS data.\n",
    "tfp_naics_short = tfp_naics_short[tfp_naics_short[\"Year\"].isin(bds_2naics[\"Year\"])].reset_index(drop=True)"
   ]
  },
  {
   "cell_type": "code",
   "execution_count": 63,
   "id": "c761d4f3",
   "metadata": {},
   "outputs": [
    {
     "name": "stdout",
     "output_type": "stream",
     "text": [
      "BDS data dimensions: (612, 6)\n",
      "BLS data dimensions: (612, 5)\n"
     ]
    }
   ],
   "source": [
    "# Check the dimensions of each data set match (only the rows need to).\n",
    "print(f\"BDS data dimensions: {bds_2naics.shape}\")\n",
    "print(f\"BLS data dimensions: {tfp_naics_short.shape}\")"
   ]
  },
  {
   "cell_type": "code",
   "execution_count": 64,
   "id": "943676d7",
   "metadata": {},
   "outputs": [],
   "source": [
    "# Merge bds_2naics with tfp_naics_short on Year and NAICS.\n",
    "merged_data = pd.merge(tfp_naics_short, bds_2naics, on=[\"Year\", \"NAICS\"], how=\"inner\")\n",
    "merged_data = pd.merge(merged_data, output_data, on=[\"Industry\", \"Year\"], how=\"inner\")"
   ]
  },
  {
   "cell_type": "code",
   "execution_count": null,
   "id": "bd9a95e2",
   "metadata": {},
   "outputs": [],
   "source": [
    "merged_data.to_csv(\"../data/productivity_and_dynamism.csv\", index=False)"
   ]
  },
  {
   "cell_type": "markdown",
   "id": "d2c36fe7",
   "metadata": {},
   "source": [
    "# Compustat data cleaning"
   ]
  },
  {
   "cell_type": "code",
   "execution_count": null,
   "id": "bcb09088",
   "metadata": {},
   "outputs": [],
   "source": [
    "compustat = pd.read_csv(\"../data/raw/compustat_raw.csv\")\n",
    "\n",
    "compustat.head()\n",
    "compustat.drop(columns=[\"datadate\", \"indfmt\", \"consol\", \"popsrc\", \"datafmt\", \"curcd\", \"costat\"], inplace=True)\n",
    "compustat.rename(columns={\"fyear\": \"year\", \"gvkey\": \"company_id\"}, inplace=True)\n",
    "\n",
    "compustat['naics'] = compustat['naics'].astype(str).str.replace(\".0\", \"\", regex=False)\n",
    "\n",
    "compustat[\"2naics\"] = compustat[\"naics\"].astype(str).str[:2]\n",
    "compustat[\"3naics\"] = compustat[\"naics\"].astype(str).str[:3]\n",
    "compustat[\"4naics\"] = compustat[\"naics\"].astype(str).str[:4]\n",
    "compustat[\"5naics\"] = compustat[\"naics\"].astype(str).str[:5]\n",
    "\n",
    "# Handle manufacturing sector codes (31, 32, 33 map to 'MN')\n",
    "manufacturing_codes = [\"31\", \"32\", \"33\"]\n",
    "# Filter compustat data to keep only relevant 2-digit NAICS codes\n",
    "compustat = compustat[(compustat[\"2naics\"].isin(naics_industry[\"NAICS\"])) | \n",
    "                      (compustat[\"2naics\"].isin(manufacturing_codes))].reset_index(drop=True)\n",
    "\n",
    "# Map manufacturing codes to 'MN' for consistency with other datasets\n",
    "compustat.loc[compustat[\"2naics\"].isin(manufacturing_codes), \"2naics\"] = \"MN\"\n",
    "\n",
    "# Filter out companies with fewer than 3 observations\n",
    "obs_counts = compustat.groupby('company_id').size()\n",
    "\n",
    "min_required_obs = 3\n",
    "valid_companies = obs_counts[obs_counts >= min_required_obs].index\n",
    "\n",
    "compustat = compustat[compustat['company_id'].isin(valid_companies)]"
   ]
  },
  {
   "cell_type": "code",
   "execution_count": 67,
   "id": "91588867",
   "metadata": {},
   "outputs": [],
   "source": [
    "def winsorise(df, cols, p=0.01):\n",
    "\n",
    "    result = df.copy()\n",
    "    \n",
    "    # Drop rows with negative, zero or missing values\n",
    "    for col in cols:\n",
    "        # Create a mask for rows to keep (positive values and not missing)\n",
    "        mask = (result[col] > 0) & (~result[col].isna())\n",
    "        result = result[mask]\n",
    "    \n",
    "    # Winsorise the data at the 4naics level, grouped by year\n",
    "    for col in cols:\n",
    "        # Use transform to apply quantile within each group\n",
    "        result[col] = result.groupby(['4naics', 'year'])[col].transform(\n",
    "            lambda x: x.clip(lower=x.quantile(p), upper=x.quantile(1-p))\n",
    "        )\n",
    "    \n",
    "    return result\n",
    "\n",
    "compustat = winsorise(compustat, cols=['sale', 'ppent', 'emp', 'cogs'])"
   ]
  },
  {
   "cell_type": "code",
   "execution_count": 68,
   "id": "21fff93f",
   "metadata": {},
   "outputs": [],
   "source": [
    "compustat.to_csv(\"../data/compustat.csv\", index=False)"
   ]
  },
  {
   "cell_type": "code",
   "execution_count": null,
   "id": "50684d57",
   "metadata": {},
   "outputs": [
    {
     "name": "stderr",
     "output_type": "stream",
     "text": [
      "Processing industries:   0%|          | 1/822 [00:06<1:23:43,  6.12s/it]"
     ]
    },
    {
     "name": "stdout",
     "output_type": "stream",
     "text": [
      "Skipping industry 1111 - too few observations (12)\n"
     ]
    },
    {
     "name": "stderr",
     "output_type": "stream",
     "text": [
      "Processing industries:   1%|          | 5/822 [00:12<25:20,  1.86s/it]  "
     ]
    },
    {
     "name": "stdout",
     "output_type": "stream",
     "text": [
      "Skipping industry 11119 - too few observations (2)\n"
     ]
    },
    {
     "name": "stderr",
     "output_type": "stream",
     "text": [
      "Processing industries:   1%|          | 6/822 [00:17<39:45,  2.92s/it]"
     ]
    },
    {
     "name": "stdout",
     "output_type": "stream",
     "text": [
      "Skipping industry 11132 - too few observations (16)\n"
     ]
    },
    {
     "name": "stderr",
     "output_type": "stream",
     "text": [
      "Processing industries:   1%|          | 8/822 [00:18<23:24,  1.73s/it]"
     ]
    },
    {
     "name": "stdout",
     "output_type": "stream",
     "text": [
      "Skipping industry 1114 - too few observations (4)\n",
      "Skipping industry 11141 - too few observations (48)\n"
     ]
    },
    {
     "name": "stderr",
     "output_type": "stream",
     "text": [
      "Processing industries:   4%|▍         | 33/822 [00:24<04:02,  3.26it/s]"
     ]
    },
    {
     "name": "stdout",
     "output_type": "stream",
     "text": [
      "Skipping industry 11192 - too few observations (10)\n",
      "Skipping industry 11193 - too few observations (3)\n",
      "Skipping industry 11194 - too few observations (7)\n",
      "Skipping industry 11199 - too few observations (20)\n",
      "Skipping industry 112 - too few observations (35)\n",
      "Skipping industry 11211 - too few observations (28)\n",
      "Skipping industry 11221 - too few observations (13)\n",
      "Skipping industry 1123 - too few observations (3)\n",
      "Skipping industry 11231 - too few observations (28)\n",
      "Skipping industry 11251 - too few observations (45)\n",
      "Skipping industry 11292 - too few observations (11)\n",
      "Skipping industry 113 - too few observations (7)\n",
      "Skipping industry 11311 - too few observations (37)\n",
      "Skipping industry 11321 - too few observations (17)\n",
      "Skipping industry 11331 - too few observations (39)\n",
      "Skipping industry 11411 - too few observations (25)\n",
      "Skipping industry 115 - too few observations (42)\n",
      "Skipping industry 11511 - too few observations (6)\n",
      "Skipping industry 11521 - too few observations (43)\n",
      "Skipping industry 21 - too few observations (46)\n",
      "Skipping industry 211 - too few observations (7)\n"
     ]
    },
    {
     "name": "stderr",
     "output_type": "stream",
     "text": [
      "Processing industries:   5%|▍         | 38/822 [00:24<03:29,  3.75it/s]"
     ]
    },
    {
     "name": "stdout",
     "output_type": "stream",
     "text": [
      "Skipping industry 2122 - too few observations (45)\n",
      "Skipping industry 21221 - too few observations (37)\n"
     ]
    },
    {
     "name": "stderr",
     "output_type": "stream",
     "text": [
      "Processing industries:   6%|▌         | 49/822 [01:13<34:14,  2.66s/it]"
     ]
    },
    {
     "name": "stdout",
     "output_type": "stream",
     "text": [
      "Skipping industry 221 - too few observations (39)\n"
     ]
    },
    {
     "name": "stderr",
     "output_type": "stream",
     "text": [
      "Processing industries:   7%|▋         | 54/822 [01:14<18:18,  1.43s/it]"
     ]
    },
    {
     "name": "stdout",
     "output_type": "stream",
     "text": [
      "Skipping industry 2213 - too few observations (8)\n"
     ]
    },
    {
     "name": "stderr",
     "output_type": "stream",
     "text": [
      "Processing industries:   7%|▋         | 57/822 [01:20<24:36,  1.93s/it]"
     ]
    },
    {
     "name": "stdout",
     "output_type": "stream",
     "text": [
      "Skipping industry 22133 - too few observations (30)\n",
      "Skipping industry 233 - too few observations (23)\n"
     ]
    },
    {
     "name": "stderr",
     "output_type": "stream",
     "text": [
      "Processing industries:   8%|▊         | 64/822 [01:50<54:17,  4.30s/it]"
     ]
    },
    {
     "name": "stdout",
     "output_type": "stream",
     "text": [
      "Skipping industry 23331 - too few observations (37)\n"
     ]
    },
    {
     "name": "stderr",
     "output_type": "stream",
     "text": [
      "Processing industries:   9%|▊         | 71/822 [01:50<13:36,  1.09s/it]"
     ]
    },
    {
     "name": "stdout",
     "output_type": "stream",
     "text": [
      "Skipping industry 234 - too few observations (44)\n",
      "Skipping industry 23411 - too few observations (6)\n",
      "Skipping industry 23412 - too few observations (6)\n",
      "Skipping industry 2349 - too few observations (7)\n"
     ]
    },
    {
     "name": "stderr",
     "output_type": "stream",
     "text": [
      "Processing industries:   9%|▉         | 73/822 [01:56<19:08,  1.53s/it]"
     ]
    },
    {
     "name": "stdout",
     "output_type": "stream",
     "text": [
      "Skipping industry 23493 - too few observations (8)\n",
      "Skipping industry 23499 - too few observations (33)\n"
     ]
    },
    {
     "name": "stderr",
     "output_type": "stream",
     "text": [
      "Processing industries:   9%|▉         | 75/822 [02:02<23:31,  1.89s/it]"
     ]
    },
    {
     "name": "stdout",
     "output_type": "stream",
     "text": [
      "Skipping industry 23511 - too few observations (15)\n",
      "Skipping industry 23521 - too few observations (4)\n"
     ]
    },
    {
     "name": "stderr",
     "output_type": "stream",
     "text": [
      "Processing industries:  10%|█         | 84/822 [02:08<11:38,  1.06it/s]"
     ]
    },
    {
     "name": "stdout",
     "output_type": "stream",
     "text": [
      "Skipping industry 23542 - too few observations (18)\n",
      "Skipping industry 23561 - too few observations (13)\n",
      "Skipping industry 23591 - too few observations (3)\n",
      "Skipping industry 23594 - too few observations (13)\n",
      "Skipping industry 23595 - too few observations (5)\n",
      "Skipping industry 2361 - too few observations (42)\n"
     ]
    },
    {
     "name": "stderr",
     "output_type": "stream",
     "text": [
      "Processing industries:  11%|█         | 87/822 [02:08<08:38,  1.42it/s]"
     ]
    },
    {
     "name": "stdout",
     "output_type": "stream",
     "text": [
      "Skipping industry 2362 - too few observations (1)\n",
      "Skipping industry 23621 - too few observations (10)\n"
     ]
    },
    {
     "name": "stderr",
     "output_type": "stream",
     "text": [
      "Processing industries:  11%|█▏        | 94/822 [02:20<13:50,  1.14s/it]"
     ]
    },
    {
     "name": "stdout",
     "output_type": "stream",
     "text": [
      "Skipping industry 23711 - too few observations (44)\n"
     ]
    },
    {
     "name": "stderr",
     "output_type": "stream",
     "text": [
      "Processing industries:  12%|█▏        | 97/822 [02:39<36:48,  3.05s/it]"
     ]
    },
    {
     "name": "stdout",
     "output_type": "stream",
     "text": [
      "Skipping industry 238 - too few observations (23)\n",
      "Skipping industry 23816 - too few observations (8)\n"
     ]
    },
    {
     "name": "stderr",
     "output_type": "stream",
     "text": [
      "Processing industries:  12%|█▏        | 100/822 [02:39<22:46,  1.89s/it]"
     ]
    },
    {
     "name": "stdout",
     "output_type": "stream",
     "text": [
      "Skipping industry 23822 - too few observations (47)\n",
      "Skipping industry 23829 - too few observations (30)\n",
      "Skipping industry 23831 - too few observations (23)\n"
     ]
    },
    {
     "name": "stderr",
     "output_type": "stream",
     "text": [
      "Processing industries:  14%|█▎        | 113/822 [03:07<37:37,  3.18s/it]"
     ]
    },
    {
     "name": "stdout",
     "output_type": "stream",
     "text": [
      "Skipping industry 31132 - too few observations (25)\n",
      "Skipping industry 31133 - too few observations (9)\n"
     ]
    },
    {
     "name": "stderr",
     "output_type": "stream",
     "text": [
      "Processing industries:  14%|█▍        | 117/822 [03:07<15:26,  1.31s/it]"
     ]
    },
    {
     "name": "stdout",
     "output_type": "stream",
     "text": [
      "Skipping industry 3114 - too few observations (19)\n"
     ]
    },
    {
     "name": "stderr",
     "output_type": "stream",
     "text": [
      "Processing industries:  15%|█▍        | 120/822 [03:14<18:26,  1.58s/it]"
     ]
    },
    {
     "name": "stdout",
     "output_type": "stream",
     "text": [
      "Skipping industry 3115 - too few observations (33)\n"
     ]
    },
    {
     "name": "stderr",
     "output_type": "stream",
     "text": [
      "Processing industries:  15%|█▍        | 123/822 [03:14<10:29,  1.11it/s]"
     ]
    },
    {
     "name": "stdout",
     "output_type": "stream",
     "text": [
      "Skipping industry 3116 - too few observations (2)\n"
     ]
    },
    {
     "name": "stderr",
     "output_type": "stream",
     "text": [
      "Processing industries:  16%|█▌        | 129/822 [03:32<30:21,  2.63s/it]"
     ]
    },
    {
     "name": "stdout",
     "output_type": "stream",
     "text": [
      "Skipping industry 31183 - too few observations (13)\n",
      "Skipping industry 3119 - too few observations (40)\n"
     ]
    },
    {
     "name": "stderr",
     "output_type": "stream",
     "text": [
      "Processing industries:  17%|█▋        | 136/822 [03:45<34:53,  3.05s/it]"
     ]
    },
    {
     "name": "stdout",
     "output_type": "stream",
     "text": [
      "Skipping industry 312 - too few observations (37)\n",
      "Skipping industry 3121 - too few observations (31)\n"
     ]
    },
    {
     "name": "stderr",
     "output_type": "stream",
     "text": [
      "Processing industries:  18%|█▊        | 150/822 [04:06<15:19,  1.37s/it]"
     ]
    },
    {
     "name": "stdout",
     "output_type": "stream",
     "text": [
      "Skipping industry 31322 - too few observations (14)\n",
      "Skipping industry 31323 - too few observations (28)\n",
      "Skipping industry 31331 - too few observations (33)\n"
     ]
    },
    {
     "name": "stderr",
     "output_type": "stream",
     "text": [
      "Processing industries:  18%|█▊        | 152/822 [04:12<20:52,  1.87s/it]"
     ]
    },
    {
     "name": "stdout",
     "output_type": "stream",
     "text": [
      "Skipping industry 314 - too few observations (48)\n"
     ]
    },
    {
     "name": "stderr",
     "output_type": "stream",
     "text": [
      "Processing industries:  19%|█▉        | 155/822 [04:12<11:52,  1.07s/it]"
     ]
    },
    {
     "name": "stdout",
     "output_type": "stream",
     "text": [
      "Skipping industry 31491 - too few observations (48)\n"
     ]
    },
    {
     "name": "stderr",
     "output_type": "stream",
     "text": [
      "Processing industries:  19%|█▉        | 159/822 [04:24<26:15,  2.38s/it]"
     ]
    },
    {
     "name": "stdout",
     "output_type": "stream",
     "text": [
      "Skipping industry 31511 - too few observations (14)\n"
     ]
    },
    {
     "name": "stderr",
     "output_type": "stream",
     "text": [
      "Processing industries:  21%|██        | 169/822 [04:54<41:40,  3.83s/it]"
     ]
    },
    {
     "name": "stdout",
     "output_type": "stream",
     "text": [
      "Skipping industry 31599 - too few observations (46)\n",
      "Skipping industry 316 - too few observations (46)\n",
      "Skipping industry 31611 - too few observations (32)\n"
     ]
    },
    {
     "name": "stderr",
     "output_type": "stream",
     "text": [
      "Processing industries:  21%|██        | 174/822 [05:06<33:34,  3.11s/it]"
     ]
    },
    {
     "name": "stdout",
     "output_type": "stream",
     "text": [
      "Skipping industry 3169 - too few observations (15)\n"
     ]
    },
    {
     "name": "stderr",
     "output_type": "stream",
     "text": [
      "Processing industries:  22%|██▏       | 180/822 [05:18<34:51,  3.26s/it]"
     ]
    },
    {
     "name": "stdout",
     "output_type": "stream",
     "text": [
      "Skipping industry 3219 - too few observations (11)\n"
     ]
    },
    {
     "name": "stderr",
     "output_type": "stream",
     "text": [
      "Processing industries:  22%|██▏       | 184/822 [05:19<13:32,  1.27s/it]"
     ]
    },
    {
     "name": "stdout",
     "output_type": "stream",
     "text": [
      "Skipping industry 32192 - too few observations (2)\n",
      "Skipping industry 322 - too few observations (1)\n"
     ]
    },
    {
     "name": "stderr",
     "output_type": "stream",
     "text": [
      "Processing industries:  24%|██▍       | 196/822 [05:50<34:45,  3.33s/it]"
     ]
    },
    {
     "name": "stdout",
     "output_type": "stream",
     "text": [
      "Skipping industry 32312 - too few observations (47)\n"
     ]
    },
    {
     "name": "stderr",
     "output_type": "stream",
     "text": [
      "Processing industries:  26%|██▌       | 213/822 [06:34<36:50,  3.63s/it]"
     ]
    },
    {
     "name": "stdout",
     "output_type": "stream",
     "text": [
      "Skipping industry 3254 - too few observations (39)\n"
     ]
    },
    {
     "name": "stderr",
     "output_type": "stream",
     "text": [
      "Processing industries:  27%|██▋       | 220/822 [06:37<07:12,  1.39it/s]"
     ]
    },
    {
     "name": "stdout",
     "output_type": "stream",
     "text": [
      "Skipping industry 3259 - too few observations (1)\n",
      "Skipping industry 32591 - too few observations (28)\n"
     ]
    },
    {
     "name": "stderr",
     "output_type": "stream",
     "text": [
      "Processing industries:  27%|██▋       | 223/822 [06:43<14:36,  1.46s/it]"
     ]
    },
    {
     "name": "stdout",
     "output_type": "stream",
     "text": [
      "Skipping industry 326 - too few observations (10)\n"
     ]
    },
    {
     "name": "stderr",
     "output_type": "stream",
     "text": [
      "Processing industries:  28%|██▊       | 232/822 [07:07<30:15,  3.08s/it]"
     ]
    },
    {
     "name": "stdout",
     "output_type": "stream",
     "text": [
      "Skipping industry 3262 - too few observations (34)\n"
     ]
    },
    {
     "name": "stderr",
     "output_type": "stream",
     "text": [
      "Processing industries:  29%|██▊       | 236/822 [07:14<18:36,  1.91s/it]"
     ]
    },
    {
     "name": "stdout",
     "output_type": "stream",
     "text": [
      "Skipping industry 327 - too few observations (33)\n",
      "Skipping industry 3271 - too few observations (43)\n"
     ]
    },
    {
     "name": "stderr",
     "output_type": "stream",
     "text": [
      "Processing industries:  29%|██▉       | 242/822 [07:26<16:46,  1.74s/it]"
     ]
    },
    {
     "name": "stdout",
     "output_type": "stream",
     "text": [
      "Skipping industry 3273 - too few observations (41)\n"
     ]
    },
    {
     "name": "stderr",
     "output_type": "stream",
     "text": [
      "Processing industries:  30%|███       | 247/822 [07:32<13:03,  1.36s/it]"
     ]
    },
    {
     "name": "stdout",
     "output_type": "stream",
     "text": [
      "Skipping industry 32733 - too few observations (27)\n",
      "Skipping industry 32741 - too few observations (41)\n"
     ]
    },
    {
     "name": "stderr",
     "output_type": "stream",
     "text": [
      "Processing industries:  31%|███       | 251/822 [07:38<12:16,  1.29s/it]"
     ]
    },
    {
     "name": "stdout",
     "output_type": "stream",
     "text": [
      "Skipping industry 33 - too few observations (36)\n"
     ]
    },
    {
     "name": "stderr",
     "output_type": "stream",
     "text": [
      "Processing industries:  31%|███       | 255/822 [07:38<06:11,  1.53it/s]"
     ]
    },
    {
     "name": "stdout",
     "output_type": "stream",
     "text": [
      "Skipping industry 3311 - too few observations (11)\n"
     ]
    },
    {
     "name": "stderr",
     "output_type": "stream",
     "text": [
      "Processing industries:  33%|███▎      | 268/822 [08:14<20:08,  2.18s/it]"
     ]
    },
    {
     "name": "stdout",
     "output_type": "stream",
     "text": [
      "Skipping industry 3321 - too few observations (47)\n"
     ]
    },
    {
     "name": "stderr",
     "output_type": "stream",
     "text": [
      "Processing industries:  33%|███▎      | 272/822 [08:21<13:10,  1.44s/it]"
     ]
    },
    {
     "name": "stdout",
     "output_type": "stream",
     "text": [
      "Skipping industry 3323 - too few observations (34)\n"
     ]
    },
    {
     "name": "stderr",
     "output_type": "stream",
     "text": [
      "Processing industries:  34%|███▍      | 278/822 [08:32<19:32,  2.16s/it]"
     ]
    },
    {
     "name": "stdout",
     "output_type": "stream",
     "text": [
      "Skipping industry 33271 - too few observations (17)\n"
     ]
    },
    {
     "name": "stderr",
     "output_type": "stream",
     "text": [
      "Processing industries:  34%|███▍      | 280/822 [08:38<22:18,  2.47s/it]"
     ]
    },
    {
     "name": "stdout",
     "output_type": "stream",
     "text": [
      "Skipping industry 3328 - too few observations (19)\n"
     ]
    },
    {
     "name": "stderr",
     "output_type": "stream",
     "text": [
      "Processing industries:  35%|███▌      | 290/822 [08:58<24:14,  2.73s/it]"
     ]
    },
    {
     "name": "stdout",
     "output_type": "stream",
     "text": [
      "Skipping industry 3332 - too few observations (10)\n",
      "Skipping industry 33321 - too few observations (45)\n",
      "Skipping industry 33322 - too few observations (28)\n"
     ]
    },
    {
     "name": "stderr",
     "output_type": "stream",
     "text": [
      "Processing industries:  36%|███▌      | 295/822 [09:04<14:50,  1.69s/it]"
     ]
    },
    {
     "name": "stdout",
     "output_type": "stream",
     "text": [
      "Skipping industry 3333 - too few observations (5)\n"
     ]
    },
    {
     "name": "stderr",
     "output_type": "stream",
     "text": [
      "Processing industries:  36%|███▌      | 297/822 [09:04<10:08,  1.16s/it]"
     ]
    },
    {
     "name": "stdout",
     "output_type": "stream",
     "text": [
      "Skipping industry 3334 - too few observations (5)\n"
     ]
    },
    {
     "name": "stderr",
     "output_type": "stream",
     "text": [
      "Processing industries:  37%|███▋      | 306/822 [09:07<03:46,  2.27it/s]"
     ]
    },
    {
     "name": "stdout",
     "output_type": "stream",
     "text": [
      "Skipping industry 334 - too few observations (14)\n"
     ]
    },
    {
     "name": "stderr",
     "output_type": "stream",
     "text": [
      "Processing industries:  38%|███▊      | 309/822 [09:13<10:44,  1.26s/it]"
     ]
    },
    {
     "name": "stdout",
     "output_type": "stream",
     "text": [
      "Skipping industry 3342 - too few observations (16)\n"
     ]
    },
    {
     "name": "stderr",
     "output_type": "stream",
     "text": [
      "Processing industries:  39%|███▉      | 320/822 [09:16<02:56,  2.84it/s]"
     ]
    },
    {
     "name": "stdout",
     "output_type": "stream",
     "text": [
      "Skipping industry 33511 - too few observations (8)\n"
     ]
    },
    {
     "name": "stderr",
     "output_type": "stream",
     "text": [
      "Processing industries:  40%|████      | 332/822 [09:35<14:10,  1.74s/it]"
     ]
    },
    {
     "name": "stdout",
     "output_type": "stream",
     "text": [
      "Skipping industry 336 - too few observations (13)\n",
      "Skipping industry 3361 - too few observations (9)\n"
     ]
    },
    {
     "name": "stderr",
     "output_type": "stream",
     "text": [
      "Processing industries:  41%|████      | 336/822 [09:41<12:18,  1.52s/it]"
     ]
    },
    {
     "name": "stdout",
     "output_type": "stream",
     "text": [
      "Skipping industry 3362 - too few observations (22)\n"
     ]
    },
    {
     "name": "stderr",
     "output_type": "stream",
     "text": [
      "Processing industries:  43%|████▎     | 351/822 [10:30<22:28,  2.86s/it]"
     ]
    },
    {
     "name": "stdout",
     "output_type": "stream",
     "text": [
      "Skipping industry 3369 - too few observations (2)\n"
     ]
    },
    {
     "name": "stderr",
     "output_type": "stream",
     "text": [
      "Processing industries:  43%|████▎     | 354/822 [10:30<11:02,  1.42s/it]"
     ]
    },
    {
     "name": "stdout",
     "output_type": "stream",
     "text": [
      "Skipping industry 337 - too few observations (21)\n"
     ]
    },
    {
     "name": "stderr",
     "output_type": "stream",
     "text": [
      "Processing industries:  44%|████▍     | 360/822 [10:31<04:35,  1.68it/s]"
     ]
    },
    {
     "name": "stdout",
     "output_type": "stream",
     "text": [
      "Skipping industry 3379 - too few observations (12)\n",
      "Skipping industry 339 - too few observations (10)\n"
     ]
    },
    {
     "name": "stderr",
     "output_type": "stream",
     "text": [
      "Processing industries:  44%|████▍     | 364/822 [10:32<02:23,  3.20it/s]"
     ]
    },
    {
     "name": "stdout",
     "output_type": "stream",
     "text": [
      "Skipping industry 3399 - too few observations (28)\n"
     ]
    },
    {
     "name": "stderr",
     "output_type": "stream",
     "text": [
      "Processing industries:  45%|████▌     | 372/822 [10:57<20:37,  2.75s/it]"
     ]
    },
    {
     "name": "stdout",
     "output_type": "stream",
     "text": [
      "Skipping industry 421 - too few observations (44)\n",
      "Skipping industry 4211 - too few observations (34)\n",
      "Skipping industry 42111 - too few observations (24)\n"
     ]
    },
    {
     "name": "stderr",
     "output_type": "stream",
     "text": [
      "Processing industries:  46%|████▌     | 376/822 [10:57<08:30,  1.14s/it]"
     ]
    },
    {
     "name": "stdout",
     "output_type": "stream",
     "text": [
      "Skipping industry 42113 - too few observations (13)\n",
      "Skipping industry 4212 - too few observations (13)\n",
      "Skipping industry 42121 - too few observations (13)\n",
      "Skipping industry 42122 - too few observations (48)\n",
      "Skipping industry 4213 - too few observations (17)\n"
     ]
    },
    {
     "name": "stderr",
     "output_type": "stream",
     "text": [
      "Processing industries:  46%|████▋     | 382/822 [11:03<07:41,  1.05s/it]"
     ]
    },
    {
     "name": "stdout",
     "output_type": "stream",
     "text": [
      "Skipping industry 42133 - too few observations (7)\n",
      "Skipping industry 42139 - too few observations (17)\n"
     ]
    },
    {
     "name": "stderr",
     "output_type": "stream",
     "text": [
      "Processing industries:  47%|████▋     | 387/822 [11:09<07:23,  1.02s/it]"
     ]
    },
    {
     "name": "stdout",
     "output_type": "stream",
     "text": [
      "Skipping industry 42144 - too few observations (7)\n"
     ]
    },
    {
     "name": "stderr",
     "output_type": "stream",
     "text": [
      "Processing industries:  47%|████▋     | 389/822 [11:15<11:16,  1.56s/it]"
     ]
    },
    {
     "name": "stdout",
     "output_type": "stream",
     "text": [
      "Skipping industry 42146 - too few observations (15)\n",
      "Skipping industry 42149 - too few observations (39)\n",
      "Skipping industry 4215 - too few observations (6)\n"
     ]
    },
    {
     "name": "stderr",
     "output_type": "stream",
     "text": [
      "Processing industries:  48%|████▊     | 396/822 [11:21<07:30,  1.06s/it]"
     ]
    },
    {
     "name": "stdout",
     "output_type": "stream",
     "text": [
      "Skipping industry 42162 - too few observations (10)\n",
      "Skipping industry 4217 - too few observations (43)\n"
     ]
    },
    {
     "name": "stderr",
     "output_type": "stream",
     "text": [
      "Processing industries:  48%|████▊     | 398/822 [11:21<05:50,  1.21it/s]"
     ]
    },
    {
     "name": "stdout",
     "output_type": "stream",
     "text": [
      "Skipping industry 42172 - too few observations (9)\n",
      "Skipping industry 42173 - too few observations (27)\n"
     ]
    },
    {
     "name": "stderr",
     "output_type": "stream",
     "text": [
      "Processing industries:  49%|████▉     | 401/822 [11:21<04:07,  1.70it/s]"
     ]
    },
    {
     "name": "stdout",
     "output_type": "stream",
     "text": [
      "Skipping industry 42182 - too few observations (38)\n"
     ]
    },
    {
     "name": "stderr",
     "output_type": "stream",
     "text": [
      "Processing industries:  49%|████▉     | 404/822 [11:27<07:10,  1.03s/it]"
     ]
    },
    {
     "name": "stdout",
     "output_type": "stream",
     "text": [
      "Skipping industry 42184 - too few observations (17)\n"
     ]
    },
    {
     "name": "stderr",
     "output_type": "stream",
     "text": [
      "Processing industries:  50%|████▉     | 407/822 [11:33<10:28,  1.51s/it]"
     ]
    },
    {
     "name": "stdout",
     "output_type": "stream",
     "text": [
      "Skipping industry 42191 - too few observations (20)\n",
      "Skipping industry 42192 - too few observations (16)\n"
     ]
    },
    {
     "name": "stderr",
     "output_type": "stream",
     "text": [
      "Processing industries:  50%|████▉     | 410/822 [11:39<11:20,  1.65s/it]"
     ]
    },
    {
     "name": "stdout",
     "output_type": "stream",
     "text": [
      "Skipping industry 42194 - too few observations (25)\n"
     ]
    },
    {
     "name": "stderr",
     "output_type": "stream",
     "text": [
      "Processing industries:  50%|█████     | 412/822 [11:44<13:29,  1.97s/it]"
     ]
    },
    {
     "name": "stdout",
     "output_type": "stream",
     "text": [
      "Skipping industry 422 - too few observations (7)\n"
     ]
    },
    {
     "name": "stderr",
     "output_type": "stream",
     "text": [
      "Processing industries:  50%|█████     | 414/822 [11:50<14:58,  2.20s/it]"
     ]
    },
    {
     "name": "stdout",
     "output_type": "stream",
     "text": [
      "Skipping industry 42211 - too few observations (3)\n",
      "Skipping industry 42212 - too few observations (48)\n",
      "Skipping industry 42213 - too few observations (18)\n"
     ]
    },
    {
     "name": "stderr",
     "output_type": "stream",
     "text": [
      "Processing industries:  51%|█████     | 418/822 [11:56<12:35,  1.87s/it]"
     ]
    },
    {
     "name": "stdout",
     "output_type": "stream",
     "text": [
      "Skipping industry 4223 - too few observations (45)\n",
      "Skipping industry 42231 - too few observations (18)\n",
      "Skipping industry 42232 - too few observations (25)\n"
     ]
    },
    {
     "name": "stderr",
     "output_type": "stream",
     "text": [
      "Processing industries:  52%|█████▏    | 431/822 [12:08<06:06,  1.07it/s]"
     ]
    },
    {
     "name": "stdout",
     "output_type": "stream",
     "text": [
      "Skipping industry 42246 - too few observations (14)\n",
      "Skipping industry 42247 - too few observations (10)\n",
      "Skipping industry 42248 - too few observations (14)\n",
      "Skipping industry 42249 - too few observations (46)\n",
      "Skipping industry 42251 - too few observations (9)\n",
      "Skipping industry 42259 - too few observations (10)\n",
      "Skipping industry 42261 - too few observations (3)\n",
      "Skipping industry 42269 - too few observations (12)\n",
      "Skipping industry 42271 - too few observations (12)\n"
     ]
    },
    {
     "name": "stderr",
     "output_type": "stream",
     "text": [
      "Processing industries:  53%|█████▎    | 435/822 [12:14<07:45,  1.20s/it]"
     ]
    },
    {
     "name": "stdout",
     "output_type": "stream",
     "text": [
      "Skipping industry 4228 - too few observations (2)\n",
      "Skipping industry 42281 - too few observations (37)\n",
      "Skipping industry 4229 - too few observations (3)\n",
      "Skipping industry 42291 - too few observations (16)\n",
      "Skipping industry 42292 - too few observations (9)\n",
      "Skipping industry 42293 - too few observations (10)\n",
      "Skipping industry 42294 - too few observations (9)\n",
      "Skipping industry 42295 - too few observations (3)\n",
      "Skipping industry 42299 - too few observations (12)\n",
      "Skipping industry 423 - too few observations (38)\n",
      "Skipping industry 4231 - too few observations (2)\n",
      "Skipping industry 42311 - too few observations (38)\n"
     ]
    },
    {
     "name": "stderr",
     "output_type": "stream",
     "text": [
      "Processing industries:  55%|█████▍    | 448/822 [12:15<03:05,  2.02it/s]"
     ]
    },
    {
     "name": "stdout",
     "output_type": "stream",
     "text": [
      "Skipping industry 42313 - too few observations (16)\n",
      "Skipping industry 42314 - too few observations (22)\n",
      "Skipping industry 42322 - too few observations (6)\n",
      "Skipping industry 4233 - too few observations (17)\n",
      "Skipping industry 42332 - too few observations (15)\n",
      "Skipping industry 42333 - too few observations (33)\n",
      "Skipping industry 42339 - too few observations (42)\n",
      "Skipping industry 4234 - too few observations (3)\n"
     ]
    },
    {
     "name": "stderr",
     "output_type": "stream",
     "text": [
      "Processing industries:  56%|█████▋    | 463/822 [12:22<02:53,  2.07it/s]"
     ]
    },
    {
     "name": "stdout",
     "output_type": "stream",
     "text": [
      "Skipping industry 42362 - too few observations (5)\n"
     ]
    },
    {
     "name": "stderr",
     "output_type": "stream",
     "text": [
      "Processing industries:  57%|█████▋    | 465/822 [12:23<02:27,  2.43it/s]"
     ]
    },
    {
     "name": "stdout",
     "output_type": "stream",
     "text": [
      "Skipping industry 4237 - too few observations (32)\n"
     ]
    },
    {
     "name": "stderr",
     "output_type": "stream",
     "text": [
      "Processing industries:  57%|█████▋    | 469/822 [12:40<13:07,  2.23s/it]"
     ]
    },
    {
     "name": "stdout",
     "output_type": "stream",
     "text": [
      "Skipping industry 42374 - too few observations (31)\n",
      "Skipping industry 4238 - too few observations (23)\n",
      "Skipping industry 42381 - too few observations (40)\n",
      "Skipping industry 42382 - too few observations (12)\n"
     ]
    },
    {
     "name": "stderr",
     "output_type": "stream",
     "text": [
      "Processing industries:  58%|█████▊    | 477/822 [12:46<07:19,  1.27s/it]"
     ]
    },
    {
     "name": "stdout",
     "output_type": "stream",
     "text": [
      "Skipping industry 42385 - too few observations (45)\n"
     ]
    },
    {
     "name": "stderr",
     "output_type": "stream",
     "text": [
      "Processing industries:  59%|█████▊    | 481/822 [13:03<16:49,  2.96s/it]"
     ]
    },
    {
     "name": "stdout",
     "output_type": "stream",
     "text": [
      "Skipping industry 42399 - too few observations (35)\n",
      "Skipping industry 4241 - too few observations (9)\n",
      "Skipping industry 42411 - too few observations (37)\n"
     ]
    },
    {
     "name": "stderr",
     "output_type": "stream",
     "text": [
      "Processing industries:  59%|█████▉    | 485/822 [13:09<11:46,  2.10s/it]"
     ]
    },
    {
     "name": "stdout",
     "output_type": "stream",
     "text": [
      "Skipping industry 42413 - too few observations (33)\n"
     ]
    },
    {
     "name": "stderr",
     "output_type": "stream",
     "text": [
      "Processing industries:  59%|█████▉    | 487/822 [13:15<13:07,  2.35s/it]"
     ]
    },
    {
     "name": "stdout",
     "output_type": "stream",
     "text": [
      "Skipping industry 4243 - too few observations (12)\n",
      "Skipping industry 42431 - too few observations (3)\n"
     ]
    },
    {
     "name": "stderr",
     "output_type": "stream",
     "text": [
      "Processing industries:  60%|█████▉    | 491/822 [13:27<15:02,  2.73s/it]"
     ]
    },
    {
     "name": "stdout",
     "output_type": "stream",
     "text": [
      "Skipping industry 42442 - too few observations (5)\n",
      "Skipping industry 42445 - too few observations (10)\n",
      "Skipping industry 42447 - too few observations (10)\n"
     ]
    },
    {
     "name": "stderr",
     "output_type": "stream",
     "text": [
      "Processing industries:  61%|██████    | 499/822 [13:33<08:33,  1.59s/it]"
     ]
    },
    {
     "name": "stdout",
     "output_type": "stream",
     "text": [
      "Skipping industry 4246 - too few observations (20)\n",
      "Skipping industry 42461 - too few observations (6)\n"
     ]
    },
    {
     "name": "stderr",
     "output_type": "stream",
     "text": [
      "Processing industries:  61%|██████▏   | 504/822 [13:45<10:40,  2.02s/it]"
     ]
    },
    {
     "name": "stdout",
     "output_type": "stream",
     "text": [
      "Skipping industry 4248 - too few observations (5)\n",
      "Skipping industry 42482 - too few observations (28)\n",
      "Skipping industry 42491 - too few observations (26)\n"
     ]
    },
    {
     "name": "stderr",
     "output_type": "stream",
     "text": [
      "Processing industries:  62%|██████▏   | 509/822 [13:51<07:47,  1.49s/it]"
     ]
    },
    {
     "name": "stdout",
     "output_type": "stream",
     "text": [
      "Skipping industry 42495 - too few observations (10)\n",
      "Skipping industry 4251 - too few observations (3)\n",
      "Skipping industry 42511 - too few observations (11)\n"
     ]
    },
    {
     "name": "stderr",
     "output_type": "stream",
     "text": [
      "Processing industries:  63%|██████▎   | 514/822 [13:57<06:44,  1.31s/it]"
     ]
    },
    {
     "name": "stdout",
     "output_type": "stream",
     "text": [
      "Skipping industry 51 - too few observations (9)\n",
      "Skipping industry 5111 - too few observations (6)\n"
     ]
    },
    {
     "name": "stderr",
     "output_type": "stream",
     "text": [
      "Processing industries:  64%|██████▎   | 524/822 [14:16<07:01,  1.41s/it]"
     ]
    },
    {
     "name": "stdout",
     "output_type": "stream",
     "text": [
      "Skipping industry 512 - too few observations (3)\n"
     ]
    },
    {
     "name": "stderr",
     "output_type": "stream",
     "text": [
      "Processing industries:  64%|██████▍   | 528/822 [14:22<08:52,  1.81s/it]"
     ]
    },
    {
     "name": "stdout",
     "output_type": "stream",
     "text": [
      "Skipping industry 51223 - too few observations (6)\n",
      "Skipping industry 51224 - too few observations (4)\n",
      "Skipping industry 51225 - too few observations (21)\n"
     ]
    },
    {
     "name": "stderr",
     "output_type": "stream",
     "text": [
      "Processing industries:  65%|██████▍   | 532/822 [14:23<04:05,  1.18it/s]"
     ]
    },
    {
     "name": "stdout",
     "output_type": "stream",
     "text": [
      "Skipping industry 513 - too few observations (25)\n"
     ]
    },
    {
     "name": "stderr",
     "output_type": "stream",
     "text": [
      "Processing industries:  65%|██████▌   | 535/822 [14:23<02:59,  1.60it/s]"
     ]
    },
    {
     "name": "stdout",
     "output_type": "stream",
     "text": [
      "Skipping industry 51313 - too few observations (49)\n",
      "Skipping industry 51314 - too few observations (5)\n"
     ]
    },
    {
     "name": "stderr",
     "output_type": "stream",
     "text": [
      "Processing industries:  66%|██████▌   | 542/822 [14:35<05:52,  1.26s/it]"
     ]
    },
    {
     "name": "stdout",
     "output_type": "stream",
     "text": [
      "Skipping industry 5133 - too few observations (15)\n"
     ]
    },
    {
     "name": "stderr",
     "output_type": "stream",
     "text": [
      "Processing industries:  66%|██████▋   | 546/822 [14:47<09:36,  2.09s/it]"
     ]
    },
    {
     "name": "stdout",
     "output_type": "stream",
     "text": [
      "Skipping industry 51411 - too few observations (7)\n"
     ]
    },
    {
     "name": "stderr",
     "output_type": "stream",
     "text": [
      "Processing industries:  67%|██████▋   | 549/822 [14:54<08:59,  1.97s/it]"
     ]
    },
    {
     "name": "stdout",
     "output_type": "stream",
     "text": [
      "Skipping industry 5151 - too few observations (8)\n"
     ]
    },
    {
     "name": "stderr",
     "output_type": "stream",
     "text": [
      "Processing industries:  68%|██████▊   | 556/822 [15:07<05:17,  1.20s/it]"
     ]
    },
    {
     "name": "stdout",
     "output_type": "stream",
     "text": [
      "Skipping industry 517 - too few observations (11)\n"
     ]
    },
    {
     "name": "stderr",
     "output_type": "stream",
     "text": [
      "Processing industries:  68%|██████▊   | 561/822 [15:14<06:43,  1.55s/it]"
     ]
    },
    {
     "name": "stdout",
     "output_type": "stream",
     "text": [
      "Skipping industry 51751 - too few observations (25)\n"
     ]
    },
    {
     "name": "stderr",
     "output_type": "stream",
     "text": [
      "Processing industries:  69%|██████▉   | 566/822 [15:21<07:11,  1.68s/it]"
     ]
    },
    {
     "name": "stdout",
     "output_type": "stream",
     "text": [
      "Skipping industry 519 - too few observations (27)\n",
      "Skipping industry 51911 - too few observations (43)\n",
      "Skipping industry 51912 - too few observations (4)\n"
     ]
    },
    {
     "name": "stderr",
     "output_type": "stream",
     "text": [
      "Processing industries:  69%|██████▉   | 570/822 [15:21<02:59,  1.41it/s]"
     ]
    },
    {
     "name": "stdout",
     "output_type": "stream",
     "text": [
      "Skipping industry 51919 - too few observations (6)\n",
      "Skipping industry 51921 - too few observations (3)\n"
     ]
    },
    {
     "name": "stderr",
     "output_type": "stream",
     "text": [
      "Processing industries:  70%|██████▉   | 573/822 [15:22<02:04,  2.00it/s]"
     ]
    },
    {
     "name": "stdout",
     "output_type": "stream",
     "text": [
      "Skipping industry 522 - too few observations (25)\n"
     ]
    },
    {
     "name": "stderr",
     "output_type": "stream",
     "text": [
      "Processing industries:  70%|███████   | 578/822 [15:28<06:04,  1.49s/it]"
     ]
    },
    {
     "name": "stdout",
     "output_type": "stream",
     "text": [
      "Skipping industry 5222 - too few observations (44)\n"
     ]
    },
    {
     "name": "stderr",
     "output_type": "stream",
     "text": [
      "Processing industries:  71%|███████▏  | 586/822 [15:49<14:43,  3.74s/it]"
     ]
    },
    {
     "name": "stdout",
     "output_type": "stream",
     "text": [
      "Skipping industry 5231 - too few observations (1)\n"
     ]
    },
    {
     "name": "stderr",
     "output_type": "stream",
     "text": [
      "Processing industries:  72%|███████▏  | 589/822 [15:49<06:29,  1.67s/it]"
     ]
    },
    {
     "name": "stdout",
     "output_type": "stream",
     "text": [
      "Skipping industry 52313 - too few observations (21)\n",
      "Skipping industry 52314 - too few observations (38)\n"
     ]
    },
    {
     "name": "stderr",
     "output_type": "stream",
     "text": [
      "Processing industries:  72%|███████▏  | 592/822 [15:50<03:30,  1.09it/s]"
     ]
    },
    {
     "name": "stdout",
     "output_type": "stream",
     "text": [
      "Skipping industry 52316 - too few observations (32)\n"
     ]
    },
    {
     "name": "stderr",
     "output_type": "stream",
     "text": [
      "Processing industries:  73%|███████▎  | 600/822 [16:15<08:38,  2.34s/it]"
     ]
    },
    {
     "name": "stdout",
     "output_type": "stream",
     "text": [
      "Skipping industry 524 - too few observations (26)\n"
     ]
    },
    {
     "name": "stderr",
     "output_type": "stream",
     "text": [
      "Processing industries:  73%|███████▎  | 604/822 [16:22<08:25,  2.32s/it]"
     ]
    },
    {
     "name": "stdout",
     "output_type": "stream",
     "text": [
      "Skipping industry 5242 - too few observations (9)\n"
     ]
    },
    {
     "name": "stderr",
     "output_type": "stream",
     "text": [
      "Processing industries:  74%|███████▍  | 607/822 [16:22<04:00,  1.12s/it]"
     ]
    },
    {
     "name": "stdout",
     "output_type": "stream",
     "text": [
      "Skipping industry 525 - too few observations (17)\n",
      "Skipping industry 52511 - too few observations (16)\n",
      "Skipping industry 52519 - too few observations (11)\n",
      "Skipping industry 52591 - too few observations (12)\n"
     ]
    },
    {
     "name": "stderr",
     "output_type": "stream",
     "text": [
      "Processing industries:  75%|███████▍  | 613/822 [16:34<06:38,  1.90s/it]"
     ]
    },
    {
     "name": "stdout",
     "output_type": "stream",
     "text": [
      "Skipping industry 53 - too few observations (8)\n"
     ]
    },
    {
     "name": "stderr",
     "output_type": "stream",
     "text": [
      "Processing industries:  75%|███████▌  | 618/822 [16:42<05:17,  1.56s/it]"
     ]
    },
    {
     "name": "stdout",
     "output_type": "stream",
     "text": [
      "Skipping industry 53113 - too few observations (21)\n"
     ]
    },
    {
     "name": "stderr",
     "output_type": "stream",
     "text": [
      "Processing industries:  76%|███████▌  | 621/822 [16:54<10:05,  3.01s/it]"
     ]
    },
    {
     "name": "stdout",
     "output_type": "stream",
     "text": [
      "Skipping industry 5313 - too few observations (7)\n"
     ]
    },
    {
     "name": "stderr",
     "output_type": "stream",
     "text": [
      "Processing industries:  76%|███████▌  | 623/822 [16:54<06:17,  1.90s/it]"
     ]
    },
    {
     "name": "stdout",
     "output_type": "stream",
     "text": [
      "Skipping industry 53132 - too few observations (18)\n",
      "Skipping industry 532 - too few observations (16)\n"
     ]
    },
    {
     "name": "stderr",
     "output_type": "stream",
     "text": [
      "Processing industries:  77%|███████▋  | 630/822 [16:56<02:14,  1.43it/s]"
     ]
    },
    {
     "name": "stdout",
     "output_type": "stream",
     "text": [
      "Skipping industry 53222 - too few observations (10)\n"
     ]
    },
    {
     "name": "stderr",
     "output_type": "stream",
     "text": [
      "Processing industries:  77%|███████▋  | 632/822 [16:56<01:36,  1.97it/s]"
     ]
    },
    {
     "name": "stdout",
     "output_type": "stream",
     "text": [
      "Skipping industry 53228 - too few observations (22)\n"
     ]
    },
    {
     "name": "stderr",
     "output_type": "stream",
     "text": [
      "Processing industries:  77%|███████▋  | 634/822 [16:56<01:11,  2.64it/s]"
     ]
    },
    {
     "name": "stdout",
     "output_type": "stream",
     "text": [
      "Skipping industry 53231 - too few observations (27)\n"
     ]
    },
    {
     "name": "stderr",
     "output_type": "stream",
     "text": [
      "Processing industries:  78%|███████▊  | 639/822 [17:15<08:49,  2.89s/it]"
     ]
    },
    {
     "name": "stdout",
     "output_type": "stream",
     "text": [
      "Skipping industry 54 - too few observations (3)\n",
      "Skipping industry 541 - too few observations (5)\n"
     ]
    },
    {
     "name": "stderr",
     "output_type": "stream",
     "text": [
      "Processing industries:  78%|███████▊  | 643/822 [17:21<06:53,  2.31s/it]"
     ]
    },
    {
     "name": "stdout",
     "output_type": "stream",
     "text": [
      "Skipping industry 5412 - too few observations (3)\n"
     ]
    },
    {
     "name": "stderr",
     "output_type": "stream",
     "text": [
      "Processing industries:  78%|███████▊  | 645/822 [17:22<04:39,  1.58s/it]"
     ]
    },
    {
     "name": "stdout",
     "output_type": "stream",
     "text": [
      "Skipping industry 5413 - too few observations (18)\n",
      "Skipping industry 54131 - too few observations (30)\n",
      "Skipping industry 54132 - too few observations (7)\n"
     ]
    },
    {
     "name": "stderr",
     "output_type": "stream",
     "text": [
      "Processing industries:  79%|███████▉  | 651/822 [17:22<01:46,  1.60it/s]"
     ]
    },
    {
     "name": "stdout",
     "output_type": "stream",
     "text": [
      "Skipping industry 54141 - too few observations (7)\n"
     ]
    },
    {
     "name": "stderr",
     "output_type": "stream",
     "text": [
      "Processing industries:  79%|███████▉  | 653/822 [17:28<03:57,  1.40s/it]"
     ]
    },
    {
     "name": "stdout",
     "output_type": "stream",
     "text": [
      "Skipping industry 54149 - too few observations (1)\n"
     ]
    },
    {
     "name": "stderr",
     "output_type": "stream",
     "text": [
      "Processing industries:  80%|███████▉  | 656/822 [17:29<02:22,  1.16it/s]"
     ]
    },
    {
     "name": "stdout",
     "output_type": "stream",
     "text": [
      "Skipping industry 5416 - too few observations (40)\n"
     ]
    },
    {
     "name": "stderr",
     "output_type": "stream",
     "text": [
      "Processing industries:  81%|████████  | 662/822 [17:36<02:02,  1.30it/s]"
     ]
    },
    {
     "name": "stdout",
     "output_type": "stream",
     "text": [
      "Skipping industry 54169 - too few observations (37)\n",
      "Skipping industry 5417 - too few observations (6)\n",
      "Skipping industry 54172 - too few observations (11)\n"
     ]
    },
    {
     "name": "stderr",
     "output_type": "stream",
     "text": [
      "Processing industries:  81%|████████  | 665/822 [17:42<03:20,  1.28s/it]"
     ]
    },
    {
     "name": "stdout",
     "output_type": "stream",
     "text": [
      "Skipping industry 54182 - too few observations (28)\n",
      "Skipping industry 54183 - too few observations (17)\n",
      "Skipping industry 54184 - too few observations (36)\n"
     ]
    },
    {
     "name": "stderr",
     "output_type": "stream",
     "text": [
      "Processing industries:  82%|████████▏ | 670/822 [17:55<05:25,  2.14s/it]"
     ]
    },
    {
     "name": "stdout",
     "output_type": "stream",
     "text": [
      "Skipping industry 54187 - too few observations (29)\n"
     ]
    },
    {
     "name": "stderr",
     "output_type": "stream",
     "text": [
      "Processing industries:  82%|████████▏ | 672/822 [18:01<06:09,  2.46s/it]"
     ]
    },
    {
     "name": "stdout",
     "output_type": "stream",
     "text": [
      "Skipping industry 5419 - too few observations (20)\n"
     ]
    },
    {
     "name": "stderr",
     "output_type": "stream",
     "text": [
      "Processing industries:  82%|████████▏ | 675/822 [18:07<05:30,  2.25s/it]"
     ]
    },
    {
     "name": "stdout",
     "output_type": "stream",
     "text": [
      "Skipping industry 54193 - too few observations (16)\n",
      "Skipping industry 54194 - too few observations (29)\n"
     ]
    },
    {
     "name": "stderr",
     "output_type": "stream",
     "text": [
      "Processing industries:  83%|████████▎ | 679/822 [18:13<04:24,  1.85s/it]"
     ]
    },
    {
     "name": "stdout",
     "output_type": "stream",
     "text": [
      "Skipping industry 5611 - too few observations (9)\n"
     ]
    },
    {
     "name": "stderr",
     "output_type": "stream",
     "text": [
      "Processing industries:  84%|████████▎ | 688/822 [18:45<10:17,  4.61s/it]"
     ]
    },
    {
     "name": "stdout",
     "output_type": "stream",
     "text": [
      "Skipping industry 56143 - too few observations (9)\n"
     ]
    },
    {
     "name": "stderr",
     "output_type": "stream",
     "text": [
      "Processing industries:  85%|████████▍ | 695/822 [19:09<09:16,  4.38s/it]"
     ]
    },
    {
     "name": "stdout",
     "output_type": "stream",
     "text": [
      "Skipping industry 5616 - too few observations (12)\n"
     ]
    },
    {
     "name": "stderr",
     "output_type": "stream",
     "text": [
      "Processing industries:  85%|████████▌ | 701/822 [19:24<05:26,  2.70s/it]"
     ]
    },
    {
     "name": "stdout",
     "output_type": "stream",
     "text": [
      "Skipping industry 56179 - too few observations (8)\n",
      "Skipping industry 56191 - too few observations (32)\n"
     ]
    },
    {
     "name": "stderr",
     "output_type": "stream",
     "text": [
      "Processing industries:  86%|████████▌ | 706/822 [19:37<05:39,  2.93s/it]"
     ]
    },
    {
     "name": "stdout",
     "output_type": "stream",
     "text": [
      "Skipping industry 5621 - too few observations (8)\n"
     ]
    },
    {
     "name": "stderr",
     "output_type": "stream",
     "text": [
      "Processing industries:  86%|████████▋ | 710/822 [19:38<02:15,  1.21s/it]"
     ]
    },
    {
     "name": "stdout",
     "output_type": "stream",
     "text": [
      "Skipping industry 5622 - too few observations (3)\n",
      "Skipping industry 56291 - too few observations (14)\n",
      "Skipping industry 56292 - too few observations (32)\n",
      "Skipping industry 56299 - too few observations (35)\n",
      "Skipping industry 61 - too few observations (24)\n"
     ]
    },
    {
     "name": "stderr",
     "output_type": "stream",
     "text": [
      "Processing industries:  87%|████████▋ | 717/822 [19:44<02:03,  1.18s/it]"
     ]
    },
    {
     "name": "stdout",
     "output_type": "stream",
     "text": [
      "Skipping industry 61121 - too few observations (44)\n"
     ]
    },
    {
     "name": "stderr",
     "output_type": "stream",
     "text": [
      "Processing industries:  87%|████████▋ | 718/822 [19:45<01:48,  1.04s/it]"
     ]
    },
    {
     "name": "stdout",
     "output_type": "stream",
     "text": [
      "Skipping industry 61141 - too few observations (17)\n"
     ]
    },
    {
     "name": "stderr",
     "output_type": "stream",
     "text": [
      "Processing industries:  88%|████████▊ | 721/822 [19:56<03:55,  2.33s/it]"
     ]
    },
    {
     "name": "stdout",
     "output_type": "stream",
     "text": [
      "Skipping industry 6115 - too few observations (2)\n"
     ]
    },
    {
     "name": "stderr",
     "output_type": "stream",
     "text": [
      "Processing industries:  88%|████████▊ | 723/822 [20:02<04:08,  2.51s/it]"
     ]
    },
    {
     "name": "stdout",
     "output_type": "stream",
     "text": [
      "Skipping industry 6116 - too few observations (4)\n",
      "Skipping industry 61162 - too few observations (8)\n",
      "Skipping industry 61163 - too few observations (26)\n"
     ]
    },
    {
     "name": "stderr",
     "output_type": "stream",
     "text": [
      "Processing industries:  88%|████████▊ | 727/822 [20:02<02:05,  1.32s/it]"
     ]
    },
    {
     "name": "stdout",
     "output_type": "stream",
     "text": [
      "Skipping industry 61171 - too few observations (28)\n",
      "Skipping industry 62 - too few observations (3)\n"
     ]
    },
    {
     "name": "stderr",
     "output_type": "stream",
     "text": [
      "Processing industries:  89%|████████▉ | 732/822 [20:21<03:57,  2.64s/it]"
     ]
    },
    {
     "name": "stdout",
     "output_type": "stream",
     "text": [
      "Skipping industry 62131 - too few observations (4)\n",
      "Skipping industry 62132 - too few observations (16)\n",
      "Skipping industry 62133 - too few observations (16)\n"
     ]
    },
    {
     "name": "stderr",
     "output_type": "stream",
     "text": [
      "Processing industries:  90%|█████████ | 740/822 [20:27<01:41,  1.24s/it]"
     ]
    },
    {
     "name": "stdout",
     "output_type": "stream",
     "text": [
      "Skipping industry 62139 - too few observations (11)\n",
      "Skipping industry 6214 - too few observations (8)\n",
      "Skipping industry 62141 - too few observations (20)\n"
     ]
    },
    {
     "name": "stderr",
     "output_type": "stream",
     "text": [
      "Processing industries:  90%|█████████ | 743/822 [20:34<02:03,  1.56s/it]"
     ]
    },
    {
     "name": "stdout",
     "output_type": "stream",
     "text": [
      "Skipping industry 6219 - too few observations (17)\n"
     ]
    },
    {
     "name": "stderr",
     "output_type": "stream",
     "text": [
      "Processing industries:  91%|█████████ | 746/822 [20:40<02:04,  1.64s/it]"
     ]
    },
    {
     "name": "stdout",
     "output_type": "stream",
     "text": [
      "Skipping industry 622 - too few observations (44)\n"
     ]
    },
    {
     "name": "stderr",
     "output_type": "stream",
     "text": [
      "Processing industries:  91%|█████████▏| 752/822 [20:47<01:02,  1.12it/s]"
     ]
    },
    {
     "name": "stdout",
     "output_type": "stream",
     "text": [
      "Skipping industry 623 - too few observations (12)\n",
      "Skipping industry 62322 - too few observations (22)\n"
     ]
    },
    {
     "name": "stderr",
     "output_type": "stream",
     "text": [
      "Processing industries:  92%|█████████▏| 760/822 [20:47<00:16,  3.74it/s]"
     ]
    },
    {
     "name": "stdout",
     "output_type": "stream",
     "text": [
      "Skipping industry 62399 - too few observations (18)\n",
      "Skipping industry 624 - too few observations (2)\n",
      "Skipping industry 62411 - too few observations (30)\n",
      "Skipping industry 62412 - too few observations (1)\n",
      "Skipping industry 62419 - too few observations (7)\n",
      "Skipping industry 71 - too few observations (23)\n",
      "Skipping industry 711 - too few observations (32)\n",
      "Skipping industry 7111 - too few observations (5)\n",
      "Skipping industry 71111 - too few observations (24)\n",
      "Skipping industry 71119 - too few observations (26)\n"
     ]
    },
    {
     "name": "stderr",
     "output_type": "stream",
     "text": [
      "Processing industries:  93%|█████████▎| 766/822 [20:53<00:35,  1.58it/s]"
     ]
    },
    {
     "name": "stdout",
     "output_type": "stream",
     "text": [
      "Skipping industry 7113 - too few observations (17)\n",
      "Skipping industry 71131 - too few observations (38)\n",
      "Skipping industry 71132 - too few observations (32)\n",
      "Skipping industry 71141 - too few observations (27)\n",
      "Skipping industry 71213 - too few observations (12)\n",
      "Skipping industry 71219 - too few observations (1)\n"
     ]
    },
    {
     "name": "stderr",
     "output_type": "stream",
     "text": [
      "Processing industries:  94%|█████████▍| 774/822 [20:59<00:32,  1.48it/s]"
     ]
    },
    {
     "name": "stdout",
     "output_type": "stream",
     "text": [
      "Skipping industry 7132 - too few observations (14)\n"
     ]
    },
    {
     "name": "stderr",
     "output_type": "stream",
     "text": [
      "Processing industries:  95%|█████████▍| 780/822 [21:06<00:34,  1.22it/s]"
     ]
    },
    {
     "name": "stdout",
     "output_type": "stream",
     "text": [
      "Skipping industry 7139 - too few observations (39)\n",
      "Skipping industry 71391 - too few observations (33)\n"
     ]
    },
    {
     "name": "stderr",
     "output_type": "stream",
     "text": [
      "Processing industries:  96%|█████████▌| 786/822 [21:34<01:36,  2.68s/it]"
     ]
    },
    {
     "name": "stdout",
     "output_type": "stream",
     "text": [
      "Skipping industry 7211 - too few observations (15)\n"
     ]
    },
    {
     "name": "stderr",
     "output_type": "stream",
     "text": [
      "Processing industries:  96%|█████████▌| 789/822 [21:52<02:22,  4.31s/it]"
     ]
    },
    {
     "name": "stdout",
     "output_type": "stream",
     "text": [
      "Skipping industry 72131 - too few observations (3)\n"
     ]
    },
    {
     "name": "stderr",
     "output_type": "stream",
     "text": [
      "Processing industries:  97%|█████████▋| 794/822 [21:59<01:03,  2.27s/it]"
     ]
    },
    {
     "name": "stdout",
     "output_type": "stream",
     "text": [
      "Skipping industry 72232 - too few observations (39)\n",
      "Skipping industry 72241 - too few observations (34)\n"
     ]
    },
    {
     "name": "stderr",
     "output_type": "stream",
     "text": [
      "Processing industries:  97%|█████████▋| 797/822 [21:59<00:29,  1.16s/it]"
     ]
    },
    {
     "name": "stdout",
     "output_type": "stream",
     "text": [
      "Skipping industry 811 - too few observations (14)\n",
      "Skipping industry 8111 - too few observations (2)\n",
      "Skipping industry 81111 - too few observations (47)\n",
      "Skipping industry 81112 - too few observations (43)\n"
     ]
    },
    {
     "name": "stderr",
     "output_type": "stream",
     "text": [
      "Processing industries:  98%|█████████▊| 803/822 [22:05<00:19,  1.05s/it]"
     ]
    },
    {
     "name": "stdout",
     "output_type": "stream",
     "text": [
      "Skipping industry 81131 - too few observations (6)\n",
      "Skipping industry 81149 - too few observations (7)\n"
     ]
    },
    {
     "name": "stderr",
     "output_type": "stream",
     "text": [
      "Processing industries:  98%|█████████▊| 808/822 [22:11<00:14,  1.03s/it]"
     ]
    },
    {
     "name": "stdout",
     "output_type": "stream",
     "text": [
      "Skipping industry 8121 - too few observations (17)\n"
     ]
    },
    {
     "name": "stderr",
     "output_type": "stream",
     "text": [
      "Processing industries:  99%|█████████▊| 810/822 [22:12<00:09,  1.28it/s]"
     ]
    },
    {
     "name": "stdout",
     "output_type": "stream",
     "text": [
      "Skipping industry 81222 - too few observations (25)\n",
      "Skipping industry 8123 - too few observations (12)\n",
      "Skipping industry 81231 - too few observations (29)\n",
      "Skipping industry 81232 - too few observations (15)\n"
     ]
    },
    {
     "name": "stderr",
     "output_type": "stream",
     "text": [
      "Processing industries:  99%|█████████▉| 815/822 [22:17<00:06,  1.00it/s]"
     ]
    },
    {
     "name": "stdout",
     "output_type": "stream",
     "text": [
      "Skipping industry 81291 - too few observations (5)\n"
     ]
    },
    {
     "name": "stderr",
     "output_type": "stream",
     "text": [
      "Processing industries: 100%|██████████| 822/822 [22:35<00:00,  1.65s/it]"
     ]
    },
    {
     "name": "stdout",
     "output_type": "stream",
     "text": [
      "Skipping industry 813 - too few observations (11)\n",
      "Skipping industry 81391 - too few observations (5)\n",
      "Skipping industry 81399 - too few observations (1)\n",
      "Successfully processed 504 industries\n"
     ]
    },
    {
     "name": "stderr",
     "output_type": "stream",
     "text": [
      "\n"
     ]
    }
   ],
   "source": [
    "def run_productivity_estimations(df_group):\n",
    "    \n",
    "    industry_code = df_group['5naics'].iloc[0]\n",
    "    \n",
    "    estimator = ProductivityEstimator(df_group)\n",
    "    results = estimator.estimate(verbose=False)\n",
    "    \n",
    "    productivity_df = results['productivity']\n",
    "    productivity_df['5naics'] = industry_code\n",
    "    \n",
    "    return productivity_df\n",
    "\n",
    "# Apply the function to each industry group and collect results\n",
    "all_results = []\n",
    "for name, group in tqdm(compustat.groupby(\"5naics\"), desc=\"Processing industries\"):\n",
    "    \n",
    "    try:\n",
    "        # Skip industries with too few observations\n",
    "        if len(group) < 50:  # Adjust minimum sample size as needed\n",
    "            # print(f\"Skipping industry {name} - too few observations ({len(group)})\")\n",
    "            continue\n",
    "        \n",
    "        # Check for complete observations\n",
    "        valid_rows = group[['sale', 'ppent', 'emp', 'cogs']].notna().all(axis=1).sum()\n",
    "        if valid_rows < 40:\n",
    "            # print(f\"Skipping industry {name} - too few complete observations ({valid_rows})\")\n",
    "            continue\n",
    "            \n",
    "        result = run_productivity_estimations(group)\n",
    "        all_results.append(result)\n",
    "    except Exception as e:\n",
    "        print(f\"Error processing industry {name}: {e}\")\n",
    "        continue\n",
    "\n",
    "if all_results:\n",
    "    productivity_df = pd.concat(all_results, ignore_index=True)\n",
    "    print(f\"Successfully processed {len(all_results)} industries\")\n",
    "else:\n",
    "    productivity_df = pd.DataFrame()\n",
    "    print(\"No industries could be processed\")"
   ]
  },
  {
   "cell_type": "code",
   "execution_count": 70,
   "id": "6bc0c30e",
   "metadata": {},
   "outputs": [],
   "source": [
    "df = pd.merge(compustat[['company_id', 'year', 'sale', 'cogs', '5naics']], productivity_df[['company_id', 'year', 'a', 'alpha_m']], on=['company_id', 'year'], how='left')\n",
    "\n",
    "df['markup'] = df['alpha_m'] * (df['sale'] / df['cogs'])\n",
    "\n",
    "df = df[df['markup'] < 10]\n",
    "df= df[df['markup'] > 0]\n",
    "\n",
    "df.dropna(inplace=True)\n",
    "\n",
    "df.to_csv(\"../data/markup_and_productivity.csv\", index=False)"
   ]
  }
 ],
 "metadata": {
  "kernelspec": {
   "display_name": "Python 3",
   "language": "python",
   "name": "python3"
  },
  "language_info": {
   "codemirror_mode": {
    "name": "ipython",
    "version": 3
   },
   "file_extension": ".py",
   "mimetype": "text/x-python",
   "name": "python",
   "nbconvert_exporter": "python",
   "pygments_lexer": "ipython3",
   "version": "3.13.0"
  }
 },
 "nbformat": 4,
 "nbformat_minor": 5
}
