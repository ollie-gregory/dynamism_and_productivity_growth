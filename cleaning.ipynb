{
 "cells": [
  {
   "cell_type": "code",
   "execution_count": 4,
   "id": "efd6c06f",
   "metadata": {},
   "outputs": [],
   "source": [
    "import pandas as pd"
   ]
  },
  {
   "cell_type": "code",
   "execution_count": 2,
   "id": "56d0c466",
   "metadata": {},
   "outputs": [],
   "source": [
    "bls_data = pd.read_excel(\"./data/bls_data.xlsx\", sheet_name=\"MachineReadable\")"
   ]
  },
  {
   "cell_type": "code",
   "execution_count": 11,
   "id": "de78dd3c",
   "metadata": {},
   "outputs": [
    {
     "data": {
      "text/plain": [
       "array(['Total factor productivity', 'Real sectoral output',\n",
       "       'Combined inputs', 'Capital input', 'Labor input', 'Hours worked',\n",
       "       'Labor composition', 'Labor productivity', 'Capital productivity',\n",
       "       'Capital intensity', 'Intermediate inputs', 'Energy input',\n",
       "       'Materials input', 'Services input',\n",
       "       'Sectoral output price deflator', 'Capital price deflator',\n",
       "       'Labor price deflator', 'Intermediate inputs price deflator',\n",
       "       'Energy price deflator', 'Materials price deflator',\n",
       "       'Services price deflator', 'Combined inputs price deflator',\n",
       "       'Intermediate inputs productivity', 'Energy productivity',\n",
       "       'Materials productivity', 'Services productivity',\n",
       "       'Unit labor costs', 'Unit capital costs',\n",
       "       'Contribution of labor composition to labor productivity',\n",
       "       'Contribution of capital intensity to labor productivity',\n",
       "       'Contribution of information processing equipment (IPE) intensity to labor productivity',\n",
       "       'Contribution of intellectual property products (IPP) excluding R&D intensity to labor productivity',\n",
       "       'Contribution of capital input excluding IPP and IPE intensity to labor productivity',\n",
       "       'Contribution of intermediate inputs intensity to labor productivity',\n",
       "       'Contribution of energy intensity to labor productivity',\n",
       "       'Contribution of materials intensity to labor productivity',\n",
       "       'Contribution of services intensity to labor productivity',\n",
       "       'Sectoral output', 'Capital costs', 'Labor costs',\n",
       "       'Intermediate inputs costs', 'Energy costs', 'Materials costs',\n",
       "       'Services costs', 'Capital share', 'Labor share',\n",
       "       'Intermediate inputs share', 'Energy share', 'Materials share',\n",
       "       'Services share',\n",
       "       'Contribution of research and development (R&D) intensity to labor productivity'],\n",
       "      dtype=object)"
      ]
     },
     "execution_count": 11,
     "metadata": {},
     "output_type": "execute_result"
    }
   ],
   "source": [
    "bls_data = bls_data[bls_data[\"Value\"] != \"N.A.\"]\n",
    "bls_data[\"Measure\"].unique()"
   ]
  }
 ],
 "metadata": {
  "kernelspec": {
   "display_name": "Python 3",
   "language": "python",
   "name": "python3"
  },
  "language_info": {
   "codemirror_mode": {
    "name": "ipython",
    "version": 3
   },
   "file_extension": ".py",
   "mimetype": "text/x-python",
   "name": "python",
   "nbconvert_exporter": "python",
   "pygments_lexer": "ipython3",
   "version": "3.13.0"
  }
 },
 "nbformat": 4,
 "nbformat_minor": 5
}
